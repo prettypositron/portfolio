{
 "cells": [
  {
   "cell_type": "markdown",
   "id": "5ea4cd4c-335a-4f19-bc10-b285e0bd5a8e",
   "metadata": {},
   "source": [
    "Last Updated: 10/29/2023"
   ]
  },
  {
   "cell_type": "markdown",
   "id": "198ff5fb-9fb3-4462-b7a7-cba0b560e3a2",
   "metadata": {},
   "source": [
    "### Deep Learning: LSTM\n",
    "##### I will be using Google historical stock data from 2010. "
   ]
  },
  {
   "cell_type": "code",
   "execution_count": 25,
   "id": "51254a16-d922-4cac-ae10-2eedb5acb773",
   "metadata": {},
   "outputs": [],
   "source": [
    "# Copyright 2023 Shane Khalid. All Rights Reserved.\n",
    "#\n",
    "# Licensed under the Apache License, Version 2.0 (the \"License\");\n",
    "# you may not use this file except in compliance with the License.\n",
    "# You may obtain a copy of the License at\n",
    "#\n",
    "#     http://www.apache.org/licenses/LICENSE-2.0\n",
    "#\n",
    "# Unless required by applicable law or agreed to in writing, software\n",
    "# distributed under the License is distributed on an \"AS IS\" BASIS,\n",
    "# WITHOUT WARRANTIES OR CONDITIONS OF ANY KIND, either express or implied.\n",
    "# See the License for the specific language governing permissions and\n",
    "# limitations under the License.\n",
    "# =============================================================================="
   ]
  },
  {
   "cell_type": "markdown",
   "id": "29da8438-e790-47ed-bfdf-d4b6ad648e23",
   "metadata": {},
   "source": [
    "#### Install and Import libraries\n",
    "##### Make sure GPU is being used"
   ]
  },
  {
   "cell_type": "code",
   "execution_count": 1,
   "id": "638ba6df-4d3d-4d32-ad29-b07a06505251",
   "metadata": {},
   "outputs": [
    {
     "name": "stderr",
     "output_type": "stream",
     "text": [
      "2023-10-29 20:36:59.453125: E tensorflow/compiler/xla/stream_executor/cuda/cuda_dnn.cc:9342] Unable to register cuDNN factory: Attempting to register factory for plugin cuDNN when one has already been registered\n",
      "2023-10-29 20:36:59.453275: E tensorflow/compiler/xla/stream_executor/cuda/cuda_fft.cc:609] Unable to register cuFFT factory: Attempting to register factory for plugin cuFFT when one has already been registered\n",
      "2023-10-29 20:36:59.453567: E tensorflow/compiler/xla/stream_executor/cuda/cuda_blas.cc:1518] Unable to register cuBLAS factory: Attempting to register factory for plugin cuBLAS when one has already been registered\n",
      "2023-10-29 20:36:59.507390: I tensorflow/core/platform/cpu_feature_guard.cc:182] This TensorFlow binary is optimized to use available CPU instructions in performance-critical operations.\n",
      "To enable the following instructions: AVX2 FMA, in other operations, rebuild TensorFlow with the appropriate compiler flags.\n",
      "2023-10-29 20:37:03.708737: I tensorflow/compiler/xla/stream_executor/cuda/cuda_gpu_executor.cc:880] could not open file to read NUMA node: /sys/bus/pci/devices/0000:43:00.0/numa_node\n",
      "Your kernel may have been built without NUMA support.\n",
      "2023-10-29 20:37:03.841519: I tensorflow/compiler/xla/stream_executor/cuda/cuda_gpu_executor.cc:880] could not open file to read NUMA node: /sys/bus/pci/devices/0000:43:00.0/numa_node\n",
      "Your kernel may have been built without NUMA support.\n",
      "2023-10-29 20:37:03.841569: I tensorflow/compiler/xla/stream_executor/cuda/cuda_gpu_executor.cc:880] could not open file to read NUMA node: /sys/bus/pci/devices/0000:43:00.0/numa_node\n",
      "Your kernel may have been built without NUMA support.\n"
     ]
    },
    {
     "name": "stdout",
     "output_type": "stream",
     "text": [
      "Num GPUs Available:  1\n",
      "GPU is available and being used.\n"
     ]
    }
   ],
   "source": [
    "import yfinance as yf\n",
    "\n",
    "import tensorflow as tf\n",
    "from tensorflow import keras\n",
    "\n",
    "from keras.layers import GRU, Dropout, SimpleRNN, LSTM, Dense, SimpleRNN, GRU\n",
    "from keras.models import Sequential\n",
    "from sklearn.preprocessing import MinMaxScaler\n",
    "print(\"Num GPUs Available: \", len(tf.config.experimental.list_physical_devices('GPU')))\n",
    "\n",
    "import torch\n",
    "if torch.cuda.is_available():\n",
    "    device = torch.device(\"cuda\")\n",
    "    print(\"GPU is available and being used.\")\n",
    "else:\n",
    "    device = torch.device(\"cpu\")\n",
    "    print(\"GPU is not available, using CPU instead.\")\n",
    "\n",
    "import pandas as pd\n",
    "import numpy as np\n",
    "\n",
    "import plotly.express as px\n",
    "import statsmodels.api as sm\n",
    "import matplotlib.pyplot as plt\n",
    "import plotly.graph_objects as go\n",
    "\n",
    "import matplotlib.pyplot as plt\n",
    "import matplotlib.dates as dates\n",
    "import seaborn as sns\n",
    "import math\n",
    "import datetime\n",
    "import keras\n",
    "import warnings\n",
    "warnings.filterwarnings('ignore')\n",
    "\n",
    "from datetime import date, timedelta\n",
    "from keras.models import Sequential\n",
    "from keras.layers import Dense\n",
    "from keras.layers import LSTM\n",
    "from keras.layers import Dropout\n",
    "from keras.layers import *\n",
    "from keras.callbacks import EarlyStopping\n",
    "\n",
    "from keras.metrics import Accuracy\n",
    "from keras.metrics import F1Score\n",
    "from keras.metrics import Precision\n",
    "\n",
    "\n",
    "from sklearn.preprocessing import MinMaxScaler\n",
    "from sklearn.metrics import mean_squared_error\n",
    "from sklearn.metrics import mean_absolute_error\n",
    "#from sklearn.metrics import accuracy_score\n",
    "#from sklearn.metrics import precision_score\n",
    "#from sklearn.metrics import f1_score\n",
    "\n",
    "%matplotlib inline"
   ]
  },
  {
   "cell_type": "markdown",
   "id": "ce18fafb-e6da-4c78-8cad-62ea8664f2e3",
   "metadata": {},
   "source": [
    "#### Import Data using yfinance API into pandas Dataframe"
   ]
  },
  {
   "cell_type": "code",
   "execution_count": 2,
   "id": "1898528e-dbb5-445b-973a-441831b451d2",
   "metadata": {},
   "outputs": [
    {
     "name": "stdout",
     "output_type": "stream",
     "text": [
      "[*********************100%%**********************]  1 of 1 completed\n"
     ]
    },
    {
     "data": {
      "text/html": [
       "<div>\n",
       "<style scoped>\n",
       "    .dataframe tbody tr th:only-of-type {\n",
       "        vertical-align: middle;\n",
       "    }\n",
       "\n",
       "    .dataframe tbody tr th {\n",
       "        vertical-align: top;\n",
       "    }\n",
       "\n",
       "    .dataframe thead th {\n",
       "        text-align: right;\n",
       "    }\n",
       "</style>\n",
       "<table border=\"1\" class=\"dataframe\">\n",
       "  <thead>\n",
       "    <tr style=\"text-align: right;\">\n",
       "      <th></th>\n",
       "      <th>Open</th>\n",
       "      <th>High</th>\n",
       "      <th>Low</th>\n",
       "      <th>Close</th>\n",
       "      <th>Adj Close</th>\n",
       "      <th>Volume</th>\n",
       "    </tr>\n",
       "    <tr>\n",
       "      <th>Date</th>\n",
       "      <th></th>\n",
       "      <th></th>\n",
       "      <th></th>\n",
       "      <th></th>\n",
       "      <th></th>\n",
       "      <th></th>\n",
       "    </tr>\n",
       "  </thead>\n",
       "  <tbody>\n",
       "    <tr>\n",
       "      <th>2010-01-04</th>\n",
       "      <td>15.689439</td>\n",
       "      <td>15.753504</td>\n",
       "      <td>15.621622</td>\n",
       "      <td>15.684434</td>\n",
       "      <td>15.684434</td>\n",
       "      <td>78169752</td>\n",
       "    </tr>\n",
       "    <tr>\n",
       "      <th>2010-01-05</th>\n",
       "      <td>15.695195</td>\n",
       "      <td>15.711712</td>\n",
       "      <td>15.554054</td>\n",
       "      <td>15.615365</td>\n",
       "      <td>15.615365</td>\n",
       "      <td>120067812</td>\n",
       "    </tr>\n",
       "    <tr>\n",
       "      <th>2010-01-06</th>\n",
       "      <td>15.662162</td>\n",
       "      <td>15.662162</td>\n",
       "      <td>15.174174</td>\n",
       "      <td>15.221722</td>\n",
       "      <td>15.221722</td>\n",
       "      <td>158988852</td>\n",
       "    </tr>\n",
       "    <tr>\n",
       "      <th>2010-01-07</th>\n",
       "      <td>15.250250</td>\n",
       "      <td>15.265265</td>\n",
       "      <td>14.831081</td>\n",
       "      <td>14.867367</td>\n",
       "      <td>14.867367</td>\n",
       "      <td>256315428</td>\n",
       "    </tr>\n",
       "    <tr>\n",
       "      <th>2010-01-08</th>\n",
       "      <td>14.814815</td>\n",
       "      <td>15.096346</td>\n",
       "      <td>14.742492</td>\n",
       "      <td>15.065566</td>\n",
       "      <td>15.065566</td>\n",
       "      <td>188783028</td>\n",
       "    </tr>\n",
       "    <tr>\n",
       "      <th>...</th>\n",
       "      <td>...</td>\n",
       "      <td>...</td>\n",
       "      <td>...</td>\n",
       "      <td>...</td>\n",
       "      <td>...</td>\n",
       "      <td>...</td>\n",
       "    </tr>\n",
       "    <tr>\n",
       "      <th>2023-10-19</th>\n",
       "      <td>138.500000</td>\n",
       "      <td>139.660004</td>\n",
       "      <td>137.380005</td>\n",
       "      <td>137.750000</td>\n",
       "      <td>137.750000</td>\n",
       "      <td>26066000</td>\n",
       "    </tr>\n",
       "    <tr>\n",
       "      <th>2023-10-20</th>\n",
       "      <td>137.330002</td>\n",
       "      <td>137.869995</td>\n",
       "      <td>135.080002</td>\n",
       "      <td>135.600006</td>\n",
       "      <td>135.600006</td>\n",
       "      <td>26315200</td>\n",
       "    </tr>\n",
       "    <tr>\n",
       "      <th>2023-10-23</th>\n",
       "      <td>135.039993</td>\n",
       "      <td>137.660004</td>\n",
       "      <td>133.949997</td>\n",
       "      <td>136.500000</td>\n",
       "      <td>136.500000</td>\n",
       "      <td>26317900</td>\n",
       "    </tr>\n",
       "    <tr>\n",
       "      <th>2023-10-24</th>\n",
       "      <td>137.830002</td>\n",
       "      <td>139.360001</td>\n",
       "      <td>137.419998</td>\n",
       "      <td>138.809998</td>\n",
       "      <td>138.809998</td>\n",
       "      <td>44814300</td>\n",
       "    </tr>\n",
       "    <tr>\n",
       "      <th>2023-10-25</th>\n",
       "      <td>128.160004</td>\n",
       "      <td>128.309998</td>\n",
       "      <td>125.070000</td>\n",
       "      <td>125.610001</td>\n",
       "      <td>125.610001</td>\n",
       "      <td>84366200</td>\n",
       "    </tr>\n",
       "  </tbody>\n",
       "</table>\n",
       "<p>3477 rows × 6 columns</p>\n",
       "</div>"
      ],
      "text/plain": [
       "                  Open        High         Low       Close   Adj Close  \\\n",
       "Date                                                                     \n",
       "2010-01-04   15.689439   15.753504   15.621622   15.684434   15.684434   \n",
       "2010-01-05   15.695195   15.711712   15.554054   15.615365   15.615365   \n",
       "2010-01-06   15.662162   15.662162   15.174174   15.221722   15.221722   \n",
       "2010-01-07   15.250250   15.265265   14.831081   14.867367   14.867367   \n",
       "2010-01-08   14.814815   15.096346   14.742492   15.065566   15.065566   \n",
       "...                ...         ...         ...         ...         ...   \n",
       "2023-10-19  138.500000  139.660004  137.380005  137.750000  137.750000   \n",
       "2023-10-20  137.330002  137.869995  135.080002  135.600006  135.600006   \n",
       "2023-10-23  135.039993  137.660004  133.949997  136.500000  136.500000   \n",
       "2023-10-24  137.830002  139.360001  137.419998  138.809998  138.809998   \n",
       "2023-10-25  128.160004  128.309998  125.070000  125.610001  125.610001   \n",
       "\n",
       "               Volume  \n",
       "Date                   \n",
       "2010-01-04   78169752  \n",
       "2010-01-05  120067812  \n",
       "2010-01-06  158988852  \n",
       "2010-01-07  256315428  \n",
       "2010-01-08  188783028  \n",
       "...               ...  \n",
       "2023-10-19   26066000  \n",
       "2023-10-20   26315200  \n",
       "2023-10-23   26317900  \n",
       "2023-10-24   44814300  \n",
       "2023-10-25   84366200  \n",
       "\n",
       "[3477 rows x 6 columns]"
      ]
     },
     "execution_count": 2,
     "metadata": {},
     "output_type": "execute_result"
    }
   ],
   "source": [
    "googl_df = yf.download(\"GOOGL\", start=\"2010-01-01\", end=\"2023-10-26\")\n",
    "googl_df\n",
    "     "
   ]
  },
  {
   "cell_type": "code",
   "execution_count": 4,
   "id": "708be800-2806-42cb-8132-489ff60fce9a",
   "metadata": {},
   "outputs": [
    {
     "data": {
      "image/png": "[encoded data removed]",
      "text/plain": [
       "<Figure size 1600x800 with 1 Axes>"
      ]
     },
     "metadata": {},
     "output_type": "display_data"
    }
   ],
   "source": [
    "# Plot Adjusted Close price\n",
    "\n",
    "googl_df['Adj Close'].plot(grid = True)\n",
    "sns.set(rc={'figure.figsize':(16, 8)})\n",
    "plt.title('GOOGL Adjusted Close Price', color = 'black', fontsize = 20)\n",
    "plt.xlabel('Year', color = 'black', fontsize = 15)\n",
    "plt.ylabel('Stock price', color = 'black', fontsize = 15);"
   ]
  },
  {
   "cell_type": "code",
   "execution_count": 5,
   "id": "3939aaa3-a6e0-4aa0-bbaf-2a2feb098769",
   "metadata": {},
   "outputs": [
    {
     "data": {
      "text/html": [
       "<div>\n",
       "<style scoped>\n",
       "    .dataframe tbody tr th:only-of-type {\n",
       "        vertical-align: middle;\n",
       "    }\n",
       "\n",
       "    .dataframe tbody tr th {\n",
       "        vertical-align: top;\n",
       "    }\n",
       "\n",
       "    .dataframe thead th {\n",
       "        text-align: right;\n",
       "    }\n",
       "</style>\n",
       "<table border=\"1\" class=\"dataframe\">\n",
       "  <thead>\n",
       "    <tr style=\"text-align: right;\">\n",
       "      <th></th>\n",
       "      <th>Adj Close</th>\n",
       "    </tr>\n",
       "    <tr>\n",
       "      <th>Date</th>\n",
       "      <th></th>\n",
       "    </tr>\n",
       "  </thead>\n",
       "  <tbody>\n",
       "    <tr>\n",
       "      <th>2010-01-04</th>\n",
       "      <td>15.684434</td>\n",
       "    </tr>\n",
       "    <tr>\n",
       "      <th>2010-01-05</th>\n",
       "      <td>15.615365</td>\n",
       "    </tr>\n",
       "    <tr>\n",
       "      <th>2010-01-06</th>\n",
       "      <td>15.221722</td>\n",
       "    </tr>\n",
       "    <tr>\n",
       "      <th>2010-01-07</th>\n",
       "      <td>14.867367</td>\n",
       "    </tr>\n",
       "    <tr>\n",
       "      <th>2010-01-08</th>\n",
       "      <td>15.065566</td>\n",
       "    </tr>\n",
       "    <tr>\n",
       "      <th>...</th>\n",
       "      <td>...</td>\n",
       "    </tr>\n",
       "    <tr>\n",
       "      <th>2023-10-19</th>\n",
       "      <td>137.750000</td>\n",
       "    </tr>\n",
       "    <tr>\n",
       "      <th>2023-10-20</th>\n",
       "      <td>135.600006</td>\n",
       "    </tr>\n",
       "    <tr>\n",
       "      <th>2023-10-23</th>\n",
       "      <td>136.500000</td>\n",
       "    </tr>\n",
       "    <tr>\n",
       "      <th>2023-10-24</th>\n",
       "      <td>138.809998</td>\n",
       "    </tr>\n",
       "    <tr>\n",
       "      <th>2023-10-25</th>\n",
       "      <td>125.610001</td>\n",
       "    </tr>\n",
       "  </tbody>\n",
       "</table>\n",
       "<p>3477 rows × 1 columns</p>\n",
       "</div>"
      ],
      "text/plain": [
       "             Adj Close\n",
       "Date                  \n",
       "2010-01-04   15.684434\n",
       "2010-01-05   15.615365\n",
       "2010-01-06   15.221722\n",
       "2010-01-07   14.867367\n",
       "2010-01-08   15.065566\n",
       "...                ...\n",
       "2023-10-19  137.750000\n",
       "2023-10-20  135.600006\n",
       "2023-10-23  136.500000\n",
       "2023-10-24  138.809998\n",
       "2023-10-25  125.610001\n",
       "\n",
       "[3477 rows x 1 columns]"
      ]
     },
     "execution_count": 5,
     "metadata": {},
     "output_type": "execute_result"
    }
   ],
   "source": [
    "# create dataframe for adjusted closing price\n",
    "googl_adj = googl_df[['Adj Close']]\n",
    "googl_adj"
   ]
  },
  {
   "cell_type": "markdown",
   "id": "23540355-21bc-4782-a6e6-1eed3aa9ffda",
   "metadata": {},
   "source": [
    "### Step 4. Create Training Dataset\n",
    "##### 80% Training set"
   ]
  },
  {
   "cell_type": "code",
   "execution_count": 6,
   "id": "d2e340cc-285c-40dd-a896-de434c65ed1c",
   "metadata": {},
   "outputs": [
    {
     "data": {
      "text/plain": [
       "2781"
      ]
     },
     "execution_count": 6,
     "metadata": {},
     "output_type": "execute_result"
    }
   ],
   "source": [
    "# Convert DataFrame to numpy array\n",
    "googl_adj_arr = googl_adj.values\n",
    "\n",
    "# Find number of rows to train model on (80% of data set) \n",
    "training_data_len = int(0.8*len(googl_adj))\n",
    "\n",
    "training_data_len"
   ]
  },
  {
   "cell_type": "code",
   "execution_count": 7,
   "id": "70810ab3-198a-40db-966c-2e3a3192f677",
   "metadata": {},
   "outputs": [],
   "source": [
    "# Create train data set\n",
    "train = googl_adj_arr[0:training_data_len, :]\n"
   ]
  },
  {
   "cell_type": "markdown",
   "id": "976ef878-db19-42b1-b801-e1f90961d675",
   "metadata": {},
   "source": [
    "### Feature Scaling\n",
    "##### Normalize training data before fitting to model by converting vvalues of numeric columns in dataset to a common scale. Also use sklearn to scale the data to between 0 and 1 to help performance"
   ]
  },
  {
   "cell_type": "code",
   "execution_count": 8,
   "id": "81f9b675-c0c2-473d-833b-feb3f2abeda4",
   "metadata": {},
   "outputs": [
    {
     "data": {
      "text/plain": [
       "array([[0.05742836],\n",
       "       [0.05659711],\n",
       "       [0.05185961],\n",
       "       ...,\n",
       "       [0.90826299],\n",
       "       [0.94247261],\n",
       "       [1.        ]])"
      ]
     },
     "execution_count": 8,
     "metadata": {},
     "output_type": "execute_result"
    }
   ],
   "source": [
    "# Normalise the data\n",
    "scaler = MinMaxScaler(feature_range=(0,1))\n",
    "train_scaled = scaler.fit_transform(train)\n",
    "\n",
    "train_scaled"
   ]
  },
  {
   "cell_type": "code",
   "execution_count": 9,
   "id": "c0c3eb40-4438-4013-8d1f-40981137ae73",
   "metadata": {},
   "outputs": [
    {
     "data": {
      "text/plain": [
       "(2781, 1)"
      ]
     },
     "execution_count": 9,
     "metadata": {},
     "output_type": "execute_result"
    }
   ],
   "source": [
    "train_scaled.shape"
   ]
  },
  {
   "cell_type": "markdown",
   "id": "f952d1ae-4368-4965-a256-4fffb383ff03",
   "metadata": {},
   "source": [
    "### Split training data into X_train, y_train"
   ]
  },
  {
   "cell_type": "code",
   "execution_count": 10,
   "id": "290245f6-d54c-421a-b998-4b7d48cab342",
   "metadata": {},
   "outputs": [
    {
     "name": "stdout",
     "output_type": "stream",
     "text": [
      "[array([0.05742836, 0.05659711, 0.05185961, 0.04759494, 0.04998027,\n",
      "       0.0497062 , 0.04650469, 0.0454837 , 0.04631495, 0.04334836,\n",
      "       0.04564332, 0.04347183, 0.04424586, 0.03431607, 0.03130129,\n",
      "       0.03203013, 0.03193375, 0.02958157, 0.02827145, 0.02919907,\n",
      "       0.02862684, 0.03154825, 0.02731973, 0.02867804, 0.0293346 ,\n",
      "       0.03022909, 0.02962976, 0.03021704, 0.02922919, 0.03169282,\n",
      "       0.03076218, 0.03227108, 0.03153018, 0.03214458, 0.02981648,\n",
      "       0.02873224, 0.02721432, 0.02732575, 0.02909969, 0.03162053,\n",
      "       0.03290356, 0.03569545, 0.03859276, 0.03807173, 0.03738205,\n",
      "       0.04227918, 0.0436917 , 0.04320981, 0.03828256, 0.03889094,\n",
      "       0.03899937, 0.03925235, 0.03732482, 0.03657188, 0.03401188,\n",
      "       0.03652067, 0.03819221, 0.03813498, 0.0380627 , 0.03934572,\n",
      "       0.0394692 , 0.03997517, 0.04064078, 0.03980049, 0.03839099,\n",
      "       0.03958063, 0.03919814, 0.04115881, 0.04538732, 0.04605895,\n",
      "       0.04795635, 0.03435824, 0.03434317, 0.03583098, 0.03560811,\n",
      "       0.03342759, 0.03280415, 0.02878345, 0.02800642, 0.02804557,\n",
      "       0.02889186, 0.02699446, 0.02847023, 0.02117271, 0.0221937 ,\n",
      "       0.01885365, 0.01718815, 0.02577469, 0.02197987, 0.02087756,\n",
      "       0.02253103, 0.02152207, 0.02165459, 0.0187633 , 0.01757666,\n",
      "       0.01172781, 0.01083632, 0.01237534, 0.01234824, 0.01186636,\n",
      "       0.016381  , 0.0149263 , 0.01394446, 0.01725742, 0.02094081,\n",
      "       0.01886871, 0.01489318, 0.01467031, 0.01142964, 0.01534193,\n",
      "       0.01579069, 0.01419144, 0.01864884, 0.01963671, 0.01927832,\n",
      "       0.01926325, 0.01580875, 0.01511303, 0.01384809, 0.01175491,\n",
      "       0.01102607, 0.01084537, 0.0054784 , 0.00267444, 0.00103001,\n",
      "       0.00014456, 0.        , 0.00425561, 0.00617109, 0.00946296,\n",
      "       0.01197478, 0.0160015 , 0.01664603, 0.01745318, 0.00708969,\n",
      "       0.00906842, 0.01370955, 0.01247773, 0.01467934, 0.01626053,\n",
      "       0.01593224, 0.01703455, 0.0145408 , 0.01473355, 0.01469138,\n",
      "       0.01636594, 0.01619125, 0.02115766, 0.02169374, 0.01932047,\n",
      "       0.0208655 , 0.02037158, 0.0167665 , 0.01684782, 0.01514316,\n",
      "       0.01491426, 0.01639906, 0.01387821, 0.00960753, 0.00781553,\n",
      "       0.00843294, 0.00461402, 0.00558682, 0.00449053, 0.00685477])]\n",
      "[array([0.00500555])]\n",
      "\n",
      "[array([0.05742836, 0.05659711, 0.05185961, 0.04759494, 0.04998027,\n",
      "       0.0497062 , 0.04650469, 0.0454837 , 0.04631495, 0.04334836,\n",
      "       0.04564332, 0.04347183, 0.04424586, 0.03431607, 0.03130129,\n",
      "       0.03203013, 0.03193375, 0.02958157, 0.02827145, 0.02919907,\n",
      "       0.02862684, 0.03154825, 0.02731973, 0.02867804, 0.0293346 ,\n",
      "       0.03022909, 0.02962976, 0.03021704, 0.02922919, 0.03169282,\n",
      "       0.03076218, 0.03227108, 0.03153018, 0.03214458, 0.02981648,\n",
      "       0.02873224, 0.02721432, 0.02732575, 0.02909969, 0.03162053,\n",
      "       0.03290356, 0.03569545, 0.03859276, 0.03807173, 0.03738205,\n",
      "       0.04227918, 0.0436917 , 0.04320981, 0.03828256, 0.03889094,\n",
      "       0.03899937, 0.03925235, 0.03732482, 0.03657188, 0.03401188,\n",
      "       0.03652067, 0.03819221, 0.03813498, 0.0380627 , 0.03934572,\n",
      "       0.0394692 , 0.03997517, 0.04064078, 0.03980049, 0.03839099,\n",
      "       0.03958063, 0.03919814, 0.04115881, 0.04538732, 0.04605895,\n",
      "       0.04795635, 0.03435824, 0.03434317, 0.03583098, 0.03560811,\n",
      "       0.03342759, 0.03280415, 0.02878345, 0.02800642, 0.02804557,\n",
      "       0.02889186, 0.02699446, 0.02847023, 0.02117271, 0.0221937 ,\n",
      "       0.01885365, 0.01718815, 0.02577469, 0.02197987, 0.02087756,\n",
      "       0.02253103, 0.02152207, 0.02165459, 0.0187633 , 0.01757666,\n",
      "       0.01172781, 0.01083632, 0.01237534, 0.01234824, 0.01186636,\n",
      "       0.016381  , 0.0149263 , 0.01394446, 0.01725742, 0.02094081,\n",
      "       0.01886871, 0.01489318, 0.01467031, 0.01142964, 0.01534193,\n",
      "       0.01579069, 0.01419144, 0.01864884, 0.01963671, 0.01927832,\n",
      "       0.01926325, 0.01580875, 0.01511303, 0.01384809, 0.01175491,\n",
      "       0.01102607, 0.01084537, 0.0054784 , 0.00267444, 0.00103001,\n",
      "       0.00014456, 0.        , 0.00425561, 0.00617109, 0.00946296,\n",
      "       0.01197478, 0.0160015 , 0.01664603, 0.01745318, 0.00708969,\n",
      "       0.00906842, 0.01370955, 0.01247773, 0.01467934, 0.01626053,\n",
      "       0.01593224, 0.01703455, 0.0145408 , 0.01473355, 0.01469138,\n",
      "       0.01636594, 0.01619125, 0.02115766, 0.02169374, 0.01932047,\n",
      "       0.0208655 , 0.02037158, 0.0167665 , 0.01684782, 0.01514316,\n",
      "       0.01491426, 0.01639906, 0.01387821, 0.00960753, 0.00781553,\n",
      "       0.00843294, 0.00461402, 0.00558682, 0.00449053, 0.00685477]), array([0.05659711, 0.05185961, 0.04759494, 0.04998027, 0.0497062 ,\n",
      "       0.04650469, 0.0454837 , 0.04631495, 0.04334836, 0.04564332,\n",
      "       0.04347183, 0.04424586, 0.03431607, 0.03130129, 0.03203013,\n",
      "       0.03193375, 0.02958157, 0.02827145, 0.02919907, 0.02862684,\n",
      "       0.03154825, 0.02731973, 0.02867804, 0.0293346 , 0.03022909,\n",
      "       0.02962976, 0.03021704, 0.02922919, 0.03169282, 0.03076218,\n",
      "       0.03227108, 0.03153018, 0.03214458, 0.02981648, 0.02873224,\n",
      "       0.02721432, 0.02732575, 0.02909969, 0.03162053, 0.03290356,\n",
      "       0.03569545, 0.03859276, 0.03807173, 0.03738205, 0.04227918,\n",
      "       0.0436917 , 0.04320981, 0.03828256, 0.03889094, 0.03899937,\n",
      "       0.03925235, 0.03732482, 0.03657188, 0.03401188, 0.03652067,\n",
      "       0.03819221, 0.03813498, 0.0380627 , 0.03934572, 0.0394692 ,\n",
      "       0.03997517, 0.04064078, 0.03980049, 0.03839099, 0.03958063,\n",
      "       0.03919814, 0.04115881, 0.04538732, 0.04605895, 0.04795635,\n",
      "       0.03435824, 0.03434317, 0.03583098, 0.03560811, 0.03342759,\n",
      "       0.03280415, 0.02878345, 0.02800642, 0.02804557, 0.02889186,\n",
      "       0.02699446, 0.02847023, 0.02117271, 0.0221937 , 0.01885365,\n",
      "       0.01718815, 0.02577469, 0.02197987, 0.02087756, 0.02253103,\n",
      "       0.02152207, 0.02165459, 0.0187633 , 0.01757666, 0.01172781,\n",
      "       0.01083632, 0.01237534, 0.01234824, 0.01186636, 0.016381  ,\n",
      "       0.0149263 , 0.01394446, 0.01725742, 0.02094081, 0.01886871,\n",
      "       0.01489318, 0.01467031, 0.01142964, 0.01534193, 0.01579069,\n",
      "       0.01419144, 0.01864884, 0.01963671, 0.01927832, 0.01926325,\n",
      "       0.01580875, 0.01511303, 0.01384809, 0.01175491, 0.01102607,\n",
      "       0.01084537, 0.0054784 , 0.00267444, 0.00103001, 0.00014456,\n",
      "       0.        , 0.00425561, 0.00617109, 0.00946296, 0.01197478,\n",
      "       0.0160015 , 0.01664603, 0.01745318, 0.00708969, 0.00906842,\n",
      "       0.01370955, 0.01247773, 0.01467934, 0.01626053, 0.01593224,\n",
      "       0.01703455, 0.0145408 , 0.01473355, 0.01469138, 0.01636594,\n",
      "       0.01619125, 0.02115766, 0.02169374, 0.01932047, 0.0208655 ,\n",
      "       0.02037158, 0.0167665 , 0.01684782, 0.01514316, 0.01491426,\n",
      "       0.01639906, 0.01387821, 0.00960753, 0.00781553, 0.00843294,\n",
      "       0.00461402, 0.00558682, 0.00449053, 0.00685477, 0.00500555])]\n",
      "[array([0.00500555]), array([0.0042014])]\n",
      "\n"
     ]
    }
   ],
   "source": [
    "# Creating a data structure with 60 time-steps and 1 output\n",
    "\n",
    "# Split data into X_train and y_train data sets\n",
    "X_train = []\n",
    "y_train = []\n",
    "# Creating a data structure with 165 time-steps and 1 output\n",
    "for i in range(165, len(train_scaled)):\n",
    "    X_train.append(train_scaled[i-165:i, 0])\n",
    "    y_train.append(train_scaled[i:i+1, 0])  \n",
    "    if i <= 166:     # 165 days for first pass, 166 for second\n",
    "      print(X_train)\n",
    "      print(y_train)\n",
    "      print()"
   ]
  },
  {
   "cell_type": "code",
   "execution_count": 11,
   "id": "eff94e90-3077-4ee0-822f-ee566b32076a",
   "metadata": {},
   "outputs": [],
   "source": [
    "# Convert X_train and y_train to numpy arrays for training LSTM model\n",
    "X_train, y_train = np.array(X_train), np.array(y_train)"
   ]
  },
  {
   "cell_type": "code",
   "execution_count": 12,
   "id": "d0eb7997-3564-416a-8001-d9442be08826",
   "metadata": {},
   "outputs": [
    {
     "data": {
      "text/plain": [
       "(2616, 165, 1)"
      ]
     },
     "execution_count": 12,
     "metadata": {},
     "output_type": "execute_result"
    }
   ],
   "source": [
    "# Reshape the data as LSTM expects 3-D data (samples, time steps, features)\n",
    "\n",
    "X_train = np.reshape(X_train, (X_train.shape[0], X_train.shape[1], 1))\n",
    "X_train.shape"
   ]
  },
  {
   "cell_type": "markdown",
   "id": "8cab916c-8f3b-4e92-bcfa-d4d8799f7004",
   "metadata": {},
   "source": [
    "Create and train model We will create and train a model with four recurrent layers each with 50 neurons, input shape of data with number of time steps (60) and dimensionality (1), and an output layer with time step of 1, and the tanh activation function. Dropout will be used after each hidden layer as a regularisation technique to prevent overfitting. The model will be compiled using the Mean Squared Error loss function and the adam (Adaptive Moment Estimation) optimizer then fitted on the training set for 200 epochs with a batch size of 64.\n"
   ]
  },
  {
   "cell_type": "code",
   "execution_count": 13,
   "id": "c1556d16-e6cd-4e26-951a-c180f3f7523a",
   "metadata": {},
   "outputs": [
    {
     "name": "stderr",
     "output_type": "stream",
     "text": [
      "2023-10-29 20:39:58.072162: I tensorflow/compiler/xla/stream_executor/cuda/cuda_gpu_executor.cc:880] could not open file to read NUMA node: /sys/bus/pci/devices/0000:43:00.0/numa_node\n",
      "Your kernel may have been built without NUMA support.\n",
      "2023-10-29 20:39:58.072289: I tensorflow/compiler/xla/stream_executor/cuda/cuda_gpu_executor.cc:880] could not open file to read NUMA node: /sys/bus/pci/devices/0000:43:00.0/numa_node\n",
      "Your kernel may have been built without NUMA support.\n",
      "2023-10-29 20:39:58.072327: I tensorflow/compiler/xla/stream_executor/cuda/cuda_gpu_executor.cc:880] could not open file to read NUMA node: /sys/bus/pci/devices/0000:43:00.0/numa_node\n",
      "Your kernel may have been built without NUMA support.\n",
      "2023-10-29 20:39:58.852681: I tensorflow/compiler/xla/stream_executor/cuda/cuda_gpu_executor.cc:880] could not open file to read NUMA node: /sys/bus/pci/devices/0000:43:00.0/numa_node\n",
      "Your kernel may have been built without NUMA support.\n",
      "2023-10-29 20:39:58.852823: I tensorflow/compiler/xla/stream_executor/cuda/cuda_gpu_executor.cc:880] could not open file to read NUMA node: /sys/bus/pci/devices/0000:43:00.0/numa_node\n",
      "Your kernel may have been built without NUMA support.\n",
      "2023-10-29 20:39:58.852834: I tensorflow/core/common_runtime/gpu/gpu_device.cc:1977] Could not identify NUMA node of platform GPU id 0, defaulting to 0.  Your kernel may not have been built with NUMA support.\n",
      "2023-10-29 20:39:58.852953: I tensorflow/compiler/xla/stream_executor/cuda/cuda_gpu_executor.cc:880] could not open file to read NUMA node: /sys/bus/pci/devices/0000:43:00.0/numa_node\n",
      "Your kernel may have been built without NUMA support.\n",
      "2023-10-29 20:39:58.853151: I tensorflow/core/common_runtime/gpu/gpu_device.cc:1886] Created device /job:localhost/replica:0/task:0/device:GPU:0 with 9565 MB memory:  -> device: 0, name: NVIDIA GeForce RTX 3090 Ti, pci bus id: 0000:43:00.0, compute capability: 8.6\n",
      "2023-10-29 20:41:40.497776: I tensorflow/tsl/platform/default/subprocess.cc:304] Start cannot spawn child process: No such file or directory\n"
     ]
    },
    {
     "name": "stdout",
     "output_type": "stream",
     "text": [
      "Model: \"sequential\"\n",
      "_________________________________________________________________\n",
      " Layer (type)                Output Shape              Param #   \n",
      "=================================================================\n",
      " lstm (LSTM)                 (None, 165, 50)           10400     \n",
      "                                                                 \n",
      " dropout (Dropout)           (None, 165, 50)           0         \n",
      "                                                                 \n",
      " lstm_1 (LSTM)               (None, 165, 50)           20200     \n",
      "                                                                 \n",
      " dropout_1 (Dropout)         (None, 165, 50)           0         \n",
      "                                                                 \n",
      " lstm_2 (LSTM)               (None, 165, 50)           20200     \n",
      "                                                                 \n",
      " dropout_2 (Dropout)         (None, 165, 50)           0         \n",
      "                                                                 \n",
      " lstm_3 (LSTM)               (None, 50)                20200     \n",
      "                                                                 \n",
      " dropout_3 (Dropout)         (None, 50)                0         \n",
      "                                                                 \n",
      " dense (Dense)               (None, 1)                 51        \n",
      "                                                                 \n",
      "=================================================================\n",
      "Total params: 71051 (277.54 KB)\n",
      "Trainable params: 71051 (277.54 KB)\n",
      "Non-trainable params: 0 (0.00 Byte)\n",
      "_________________________________________________________________\n"
     ]
    }
   ],
   "source": [
    "# Build model - LSTM with 50 neurons and 4 hidden layers  \n",
    "\n",
    "LSTM_model = Sequential()\n",
    "#Adding the first LSTM layer and some Dropout regularisation\n",
    "LSTM_model.add(LSTM(units = 50, return_sequences = True, input_shape = (X_train.shape[1], 1), activation='tanh'))\n",
    "LSTM_model.add(Dropout(0.2))\n",
    "# Adding a second LSTM layer and some Dropout regularisation\n",
    "LSTM_model.add(LSTM(units = 50, return_sequences = True, activation='tanh'))\n",
    "LSTM_model.add(Dropout(0.2))\n",
    "# Adding a third LSTM layer and some Dropout regularisation\n",
    "LSTM_model.add(LSTM(units = 50, return_sequences = True, activation='tanh'))\n",
    "LSTM_model.add(Dropout(0.2))\n",
    "# Adding a fourth LSTM layer and some Dropout regularisation\n",
    "LSTM_model.add(LSTM(units = 50, activation='tanh'))\n",
    "LSTM_model.add(Dropout(0.2))\n",
    "# Adding the output layer\n",
    "LSTM_model.add(Dense(units = 1))\n",
    "\n",
    "LSTM_model.summary()"
   ]
  },
  {
   "cell_type": "code",
   "execution_count": 14,
   "id": "6d0a25a9-afb9-4496-840b-7cb00e800a86",
   "metadata": {},
   "outputs": [
    {
     "name": "stdout",
     "output_type": "stream",
     "text": [
      "Epoch 1/200\n"
     ]
    },
    {
     "name": "stderr",
     "output_type": "stream",
     "text": [
      "2023-10-29 20:42:36.434650: I tensorflow/compiler/xla/stream_executor/cuda/cuda_dnn.cc:442] Loaded cuDNN version 8700\n",
      "2023-10-29 20:42:38.419244: I tensorflow/compiler/xla/service/service.cc:168] XLA service 0x7f6e59eb25c0 initialized for platform CUDA (this does not guarantee that XLA will be used). Devices:\n",
      "2023-10-29 20:42:38.419297: I tensorflow/compiler/xla/service/service.cc:176]   StreamExecutor device (0): NVIDIA GeForce RTX 3090 Ti, Compute Capability 8.6\n",
      "2023-10-29 20:42:38.458022: I tensorflow/compiler/mlir/tensorflow/utils/dump_mlir_util.cc:269] disabling MLIR crash reproducer, set env var `MLIR_CRASH_REPRODUCER_DIRECTORY` to enable.\n",
      "2023-10-29 20:42:38.794013: I ./tensorflow/compiler/jit/device_compiler.h:186] Compiled cluster using XLA!  This line is logged at most once for the lifetime of the process.\n"
     ]
    },
    {
     "name": "stdout",
     "output_type": "stream",
     "text": [
      "41/41 [==============================] - 10s 68ms/step - loss: 0.0174 - MAE: 0.0851 - f1_score: 0.4930 - Accuracy: 3.8226e-04 - precision: 1.0000\n",
      "Epoch 2/200\n",
      "41/41 [==============================] - 3s 61ms/step - loss: 0.0029 - MAE: 0.0356 - f1_score: 0.4930 - Accuracy: 3.8226e-04 - precision: 1.0000\n",
      "Epoch 3/200\n",
      "41/41 [==============================] - 3s 62ms/step - loss: 0.0024 - MAE: 0.0327 - f1_score: 0.4930 - Accuracy: 3.8226e-04 - precision: 1.0000\n",
      "Epoch 4/200\n",
      "41/41 [==============================] - 2s 61ms/step - loss: 0.0024 - MAE: 0.0331 - f1_score: 0.4930 - Accuracy: 3.8226e-04 - precision: 1.0000\n",
      "Epoch 5/200\n",
      "41/41 [==============================] - 3s 71ms/step - loss: 0.0022 - MAE: 0.0312 - f1_score: 0.4930 - Accuracy: 3.8226e-04 - precision: 1.0000\n",
      "Epoch 6/200\n",
      "41/41 [==============================] - 2s 61ms/step - loss: 0.0022 - MAE: 0.0312 - f1_score: 0.4930 - Accuracy: 3.8226e-04 - precision: 1.0000\n",
      "Epoch 7/200\n",
      "41/41 [==============================] - 2s 60ms/step - loss: 0.0020 - MAE: 0.0299 - f1_score: 0.4930 - Accuracy: 3.8226e-04 - precision: 1.0000\n",
      "Epoch 8/200\n",
      "41/41 [==============================] - 2s 61ms/step - loss: 0.0021 - MAE: 0.0301 - f1_score: 0.4930 - Accuracy: 3.8226e-04 - precision: 1.0000\n",
      "Epoch 9/200\n",
      "41/41 [==============================] - 2s 61ms/step - loss: 0.0020 - MAE: 0.0297 - f1_score: 0.4930 - Accuracy: 3.8226e-04 - precision: 1.0000\n",
      "Epoch 10/200\n",
      "41/41 [==============================] - 2s 61ms/step - loss: 0.0021 - MAE: 0.0302 - f1_score: 0.4930 - Accuracy: 3.8226e-04 - precision: 1.0000\n",
      "Epoch 11/200\n",
      "41/41 [==============================] - 2s 59ms/step - loss: 0.0018 - MAE: 0.0284 - f1_score: 0.4930 - Accuracy: 3.8226e-04 - precision: 1.0000\n",
      "Epoch 12/200\n",
      "41/41 [==============================] - 2s 60ms/step - loss: 0.0018 - MAE: 0.0281 - f1_score: 0.4930 - Accuracy: 3.8226e-04 - precision: 1.0000\n",
      "Epoch 13/200\n",
      "41/41 [==============================] - 2s 61ms/step - loss: 0.0018 - MAE: 0.0285 - f1_score: 0.4930 - Accuracy: 3.8226e-04 - precision: 1.0000\n",
      "Epoch 14/200\n",
      "41/41 [==============================] - 2s 60ms/step - loss: 0.0017 - MAE: 0.0270 - f1_score: 0.4930 - Accuracy: 3.8226e-04 - precision: 1.0000\n",
      "Epoch 15/200\n",
      "41/41 [==============================] - 2s 60ms/step - loss: 0.0017 - MAE: 0.0274 - f1_score: 0.4930 - Accuracy: 3.8226e-04 - precision: 1.0000\n",
      "Epoch 16/200\n",
      "41/41 [==============================] - 2s 60ms/step - loss: 0.0018 - MAE: 0.0285 - f1_score: 0.4930 - Accuracy: 3.8226e-04 - precision: 1.0000\n",
      "Epoch 17/200\n",
      "41/41 [==============================] - 2s 59ms/step - loss: 0.0015 - MAE: 0.0252 - f1_score: 0.4930 - Accuracy: 3.8226e-04 - precision: 1.0000\n",
      "Epoch 18/200\n",
      "41/41 [==============================] - 2s 60ms/step - loss: 0.0015 - MAE: 0.0257 - f1_score: 0.4930 - Accuracy: 3.8226e-04 - precision: 1.0000\n",
      "Epoch 19/200\n",
      "41/41 [==============================] - 2s 59ms/step - loss: 0.0015 - MAE: 0.0257 - f1_score: 0.4930 - Accuracy: 3.8226e-04 - precision: 1.0000\n",
      "Epoch 20/200\n",
      "41/41 [==============================] - 2s 59ms/step - loss: 0.0015 - MAE: 0.0256 - f1_score: 0.4930 - Accuracy: 3.8226e-04 - precision: 1.0000\n",
      "Epoch 21/200\n",
      "41/41 [==============================] - 2s 60ms/step - loss: 0.0015 - MAE: 0.0258 - f1_score: 0.4930 - Accuracy: 3.8226e-04 - precision: 1.0000\n",
      "Epoch 22/200\n",
      "41/41 [==============================] - 2s 61ms/step - loss: 0.0014 - MAE: 0.0245 - f1_score: 0.4930 - Accuracy: 3.8226e-04 - precision: 1.0000\n",
      "Epoch 23/200\n",
      "41/41 [==============================] - 3s 62ms/step - loss: 0.0013 - MAE: 0.0232 - f1_score: 0.4930 - Accuracy: 3.8226e-04 - precision: 1.0000\n",
      "Epoch 24/200\n",
      "41/41 [==============================] - 2s 59ms/step - loss: 0.0015 - MAE: 0.0262 - f1_score: 0.4930 - Accuracy: 3.8226e-04 - precision: 1.0000\n",
      "Epoch 25/200\n",
      "41/41 [==============================] - 2s 60ms/step - loss: 0.0014 - MAE: 0.0250 - f1_score: 0.4930 - Accuracy: 3.8226e-04 - precision: 1.0000\n",
      "Epoch 26/200\n",
      "41/41 [==============================] - 3s 65ms/step - loss: 0.0014 - MAE: 0.0244 - f1_score: 0.4930 - Accuracy: 3.8226e-04 - precision: 1.0000\n",
      "Epoch 27/200\n",
      "41/41 [==============================] - 3s 61ms/step - loss: 0.0012 - MAE: 0.0233 - f1_score: 0.4930 - Accuracy: 3.8226e-04 - precision: 1.0000\n",
      "Epoch 28/200\n",
      "41/41 [==============================] - 2s 60ms/step - loss: 0.0013 - MAE: 0.0244 - f1_score: 0.4930 - Accuracy: 3.8226e-04 - precision: 1.0000\n",
      "Epoch 29/200\n",
      "41/41 [==============================] - 2s 60ms/step - loss: 0.0012 - MAE: 0.0235 - f1_score: 0.4930 - Accuracy: 3.8226e-04 - precision: 1.0000\n",
      "Epoch 30/200\n",
      "41/41 [==============================] - 2s 60ms/step - loss: 0.0012 - MAE: 0.0234 - f1_score: 0.4930 - Accuracy: 3.8226e-04 - precision: 1.0000\n",
      "Epoch 31/200\n",
      "41/41 [==============================] - 2s 59ms/step - loss: 0.0012 - MAE: 0.0233 - f1_score: 0.4930 - Accuracy: 3.8226e-04 - precision: 1.0000\n",
      "Epoch 32/200\n",
      "41/41 [==============================] - 2s 60ms/step - loss: 0.0013 - MAE: 0.0237 - f1_score: 0.4930 - Accuracy: 3.8226e-04 - precision: 1.0000\n",
      "Epoch 33/200\n",
      "41/41 [==============================] - 2s 60ms/step - loss: 0.0012 - MAE: 0.0241 - f1_score: 0.4930 - Accuracy: 3.8226e-04 - precision: 1.0000\n",
      "Epoch 34/200\n",
      "41/41 [==============================] - 2s 60ms/step - loss: 0.0011 - MAE: 0.0228 - f1_score: 0.4930 - Accuracy: 3.8226e-04 - precision: 1.0000\n",
      "Epoch 35/200\n",
      "41/41 [==============================] - 2s 60ms/step - loss: 0.0011 - MAE: 0.0225 - f1_score: 0.4930 - Accuracy: 3.8226e-04 - precision: 1.0000\n",
      "Epoch 36/200\n",
      "41/41 [==============================] - 2s 60ms/step - loss: 0.0012 - MAE: 0.0232 - f1_score: 0.4930 - Accuracy: 3.8226e-04 - precision: 1.0000\n",
      "Epoch 37/200\n",
      "41/41 [==============================] - 2s 61ms/step - loss: 0.0011 - MAE: 0.0226 - f1_score: 0.4930 - Accuracy: 3.8226e-04 - precision: 1.0000\n",
      "Epoch 38/200\n",
      "41/41 [==============================] - 2s 60ms/step - loss: 0.0011 - MAE: 0.0219 - f1_score: 0.4930 - Accuracy: 3.8226e-04 - precision: 1.0000\n",
      "Epoch 39/200\n",
      "41/41 [==============================] - 2s 60ms/step - loss: 0.0011 - MAE: 0.0226 - f1_score: 0.4930 - Accuracy: 3.8226e-04 - precision: 1.0000\n",
      "Epoch 40/200\n",
      "41/41 [==============================] - 2s 59ms/step - loss: 0.0010 - MAE: 0.0215 - f1_score: 0.4930 - Accuracy: 3.8226e-04 - precision: 1.0000\n",
      "Epoch 41/200\n",
      "41/41 [==============================] - 2s 60ms/step - loss: 0.0010 - MAE: 0.0219 - f1_score: 0.4930 - Accuracy: 3.8226e-04 - precision: 1.0000\n",
      "Epoch 42/200\n",
      "41/41 [==============================] - 2s 60ms/step - loss: 0.0011 - MAE: 0.0226 - f1_score: 0.4930 - Accuracy: 3.8226e-04 - precision: 1.0000\n",
      "Epoch 43/200\n",
      "41/41 [==============================] - 2s 60ms/step - loss: 0.0011 - MAE: 0.0231 - f1_score: 0.4930 - Accuracy: 3.8226e-04 - precision: 1.0000\n",
      "Epoch 44/200\n",
      "41/41 [==============================] - 2s 60ms/step - loss: 0.0010 - MAE: 0.0215 - f1_score: 0.4930 - Accuracy: 3.8226e-04 - precision: 1.0000\n",
      "Epoch 45/200\n",
      "41/41 [==============================] - 2s 59ms/step - loss: 0.0011 - MAE: 0.0218 - f1_score: 0.4930 - Accuracy: 3.8226e-04 - precision: 1.0000\n",
      "Epoch 46/200\n",
      "41/41 [==============================] - 2s 60ms/step - loss: 0.0010 - MAE: 0.0215 - f1_score: 0.4930 - Accuracy: 3.8226e-04 - precision: 1.0000\n",
      "Epoch 47/200\n",
      "41/41 [==============================] - 2s 60ms/step - loss: 9.3927e-04 - MAE: 0.0211 - f1_score: 0.4930 - Accuracy: 3.8226e-04 - precision: 1.0000\n",
      "Epoch 48/200\n",
      "41/41 [==============================] - 2s 60ms/step - loss: 0.0010 - MAE: 0.0218 - f1_score: 0.4930 - Accuracy: 3.8226e-04 - precision: 1.0000\n",
      "Epoch 49/200\n",
      "41/41 [==============================] - 2s 60ms/step - loss: 9.7647e-04 - MAE: 0.0210 - f1_score: 0.4930 - Accuracy: 3.8226e-04 - precision: 1.0000\n",
      "Epoch 50/200\n",
      "41/41 [==============================] - 2s 60ms/step - loss: 0.0011 - MAE: 0.0222 - f1_score: 0.4930 - Accuracy: 3.8226e-04 - precision: 1.0000\n",
      "Epoch 51/200\n",
      "41/41 [==============================] - 2s 60ms/step - loss: 9.7947e-04 - MAE: 0.0214 - f1_score: 0.4930 - Accuracy: 3.8226e-04 - precision: 1.0000\n",
      "Epoch 52/200\n",
      "41/41 [==============================] - 2s 60ms/step - loss: 9.6290e-04 - MAE: 0.0208 - f1_score: 0.4930 - Accuracy: 3.8226e-04 - precision: 1.0000\n",
      "Epoch 53/200\n",
      "41/41 [==============================] - 2s 61ms/step - loss: 9.2816e-04 - MAE: 0.0206 - f1_score: 0.4930 - Accuracy: 3.8226e-04 - precision: 1.0000\n",
      "Epoch 54/200\n",
      "41/41 [==============================] - 3s 63ms/step - loss: 9.9399e-04 - MAE: 0.0214 - f1_score: 0.4930 - Accuracy: 3.8226e-04 - precision: 1.0000\n",
      "Epoch 55/200\n",
      "41/41 [==============================] - 2s 59ms/step - loss: 9.9669e-04 - MAE: 0.0218 - f1_score: 0.4930 - Accuracy: 3.8226e-04 - precision: 1.0000\n",
      "Epoch 56/200\n",
      "41/41 [==============================] - 2s 60ms/step - loss: 0.0010 - MAE: 0.0214 - f1_score: 0.4930 - Accuracy: 3.8226e-04 - precision: 1.0000\n",
      "Epoch 57/200\n",
      "41/41 [==============================] - 2s 60ms/step - loss: 9.1725e-04 - MAE: 0.0208 - f1_score: 0.4930 - Accuracy: 3.8226e-04 - precision: 1.0000\n",
      "Epoch 58/200\n",
      "41/41 [==============================] - 2s 61ms/step - loss: 0.0010 - MAE: 0.0212 - f1_score: 0.4930 - Accuracy: 3.8226e-04 - precision: 1.0000\n",
      "Epoch 59/200\n",
      "41/41 [==============================] - 2s 59ms/step - loss: 0.0010 - MAE: 0.0231 - f1_score: 0.4930 - Accuracy: 3.8226e-04 - precision: 1.0000\n",
      "Epoch 60/200\n",
      "41/41 [==============================] - 2s 60ms/step - loss: 8.4817e-04 - MAE: 0.0203 - f1_score: 0.4930 - Accuracy: 3.8226e-04 - precision: 1.0000\n",
      "Epoch 61/200\n",
      "41/41 [==============================] - 3s 63ms/step - loss: 8.6230e-04 - MAE: 0.0203 - f1_score: 0.4930 - Accuracy: 3.8226e-04 - precision: 1.0000\n",
      "Epoch 62/200\n",
      "41/41 [==============================] - 2s 60ms/step - loss: 8.1010e-04 - MAE: 0.0196 - f1_score: 0.4930 - Accuracy: 3.8226e-04 - precision: 1.0000\n",
      "Epoch 63/200\n",
      "41/41 [==============================] - 2s 60ms/step - loss: 8.6484e-04 - MAE: 0.0202 - f1_score: 0.4930 - Accuracy: 3.8226e-04 - precision: 1.0000\n",
      "Epoch 64/200\n",
      "41/41 [==============================] - 2s 60ms/step - loss: 8.6600e-04 - MAE: 0.0203 - f1_score: 0.4930 - Accuracy: 3.8226e-04 - precision: 1.0000\n",
      "Epoch 65/200\n",
      "41/41 [==============================] - 2s 60ms/step - loss: 8.7151e-04 - MAE: 0.0203 - f1_score: 0.4930 - Accuracy: 3.8226e-04 - precision: 1.0000\n",
      "Epoch 66/200\n",
      "41/41 [==============================] - 2s 59ms/step - loss: 8.2751e-04 - MAE: 0.0201 - f1_score: 0.4930 - Accuracy: 3.8226e-04 - precision: 1.0000\n",
      "Epoch 67/200\n",
      "41/41 [==============================] - 2s 60ms/step - loss: 8.7290e-04 - MAE: 0.0201 - f1_score: 0.4930 - Accuracy: 3.8226e-04 - precision: 1.0000\n",
      "Epoch 68/200\n",
      "41/41 [==============================] - 2s 60ms/step - loss: 8.2077e-04 - MAE: 0.0194 - f1_score: 0.4930 - Accuracy: 3.8226e-04 - precision: 1.0000\n",
      "Epoch 69/200\n",
      "41/41 [==============================] - 2s 59ms/step - loss: 8.3005e-04 - MAE: 0.0197 - f1_score: 0.4930 - Accuracy: 3.8226e-04 - precision: 1.0000\n",
      "Epoch 70/200\n",
      "41/41 [==============================] - 2s 60ms/step - loss: 8.5001e-04 - MAE: 0.0202 - f1_score: 0.4930 - Accuracy: 3.8226e-04 - precision: 1.0000\n",
      "Epoch 71/200\n",
      "41/41 [==============================] - 2s 60ms/step - loss: 8.5910e-04 - MAE: 0.0198 - f1_score: 0.4930 - Accuracy: 3.8226e-04 - precision: 1.0000\n",
      "Epoch 72/200\n",
      "41/41 [==============================] - 2s 59ms/step - loss: 8.0086e-04 - MAE: 0.0199 - f1_score: 0.4930 - Accuracy: 3.8226e-04 - precision: 1.0000\n",
      "Epoch 73/200\n",
      "41/41 [==============================] - 2s 59ms/step - loss: 7.7325e-04 - MAE: 0.0190 - f1_score: 0.4930 - Accuracy: 3.8226e-04 - precision: 1.0000\n",
      "Epoch 74/200\n",
      "41/41 [==============================] - 3s 62ms/step - loss: 7.3527e-04 - MAE: 0.0188 - f1_score: 0.4930 - Accuracy: 3.8226e-04 - precision: 1.0000\n",
      "Epoch 75/200\n",
      "41/41 [==============================] - 2s 59ms/step - loss: 8.0500e-04 - MAE: 0.0199 - f1_score: 0.4930 - Accuracy: 3.8226e-04 - precision: 1.0000\n",
      "Epoch 76/200\n",
      "41/41 [==============================] - 2s 59ms/step - loss: 8.3611e-04 - MAE: 0.0204 - f1_score: 0.4930 - Accuracy: 3.8226e-04 - precision: 1.0000\n",
      "Epoch 77/200\n",
      "41/41 [==============================] - 2s 60ms/step - loss: 7.0378e-04 - MAE: 0.0185 - f1_score: 0.4930 - Accuracy: 3.8226e-04 - precision: 1.0000\n",
      "Epoch 78/200\n",
      "41/41 [==============================] - 3s 65ms/step - loss: 7.6568e-04 - MAE: 0.0194 - f1_score: 0.4930 - Accuracy: 3.8226e-04 - precision: 1.0000\n",
      "Epoch 79/200\n",
      "41/41 [==============================] - 3s 64ms/step - loss: 6.8860e-04 - MAE: 0.0185 - f1_score: 0.4930 - Accuracy: 3.8226e-04 - precision: 1.0000\n",
      "Epoch 80/200\n",
      "41/41 [==============================] - 2s 61ms/step - loss: 8.0999e-04 - MAE: 0.0201 - f1_score: 0.4930 - Accuracy: 3.8226e-04 - precision: 1.0000\n",
      "Epoch 81/200\n",
      "41/41 [==============================] - 2s 60ms/step - loss: 8.2545e-04 - MAE: 0.0199 - f1_score: 0.4930 - Accuracy: 3.8226e-04 - precision: 1.0000\n",
      "Epoch 82/200\n",
      "41/41 [==============================] - 3s 65ms/step - loss: 7.4103e-04 - MAE: 0.0189 - f1_score: 0.4930 - Accuracy: 3.8226e-04 - precision: 1.0000\n",
      "Epoch 83/200\n",
      "41/41 [==============================] - 2s 59ms/step - loss: 8.1578e-04 - MAE: 0.0199 - f1_score: 0.4930 - Accuracy: 3.8226e-04 - precision: 1.0000\n",
      "Epoch 84/200\n",
      "41/41 [==============================] - 2s 60ms/step - loss: 7.6035e-04 - MAE: 0.0191 - f1_score: 0.4930 - Accuracy: 3.8226e-04 - precision: 1.0000\n",
      "Epoch 85/200\n",
      "41/41 [==============================] - 2s 59ms/step - loss: 7.4089e-04 - MAE: 0.0195 - f1_score: 0.4930 - Accuracy: 3.8226e-04 - precision: 1.0000\n",
      "Epoch 86/200\n",
      "41/41 [==============================] - 2s 60ms/step - loss: 6.9876e-04 - MAE: 0.0186 - f1_score: 0.4930 - Accuracy: 3.8226e-04 - precision: 1.0000\n",
      "Epoch 87/200\n",
      "41/41 [==============================] - 2s 60ms/step - loss: 8.0480e-04 - MAE: 0.0196 - f1_score: 0.4930 - Accuracy: 3.8226e-04 - precision: 1.0000\n",
      "Epoch 88/200\n",
      "41/41 [==============================] - 2s 59ms/step - loss: 7.4280e-04 - MAE: 0.0191 - f1_score: 0.4930 - Accuracy: 3.8226e-04 - precision: 1.0000\n",
      "Epoch 89/200\n",
      "41/41 [==============================] - 2s 59ms/step - loss: 7.6478e-04 - MAE: 0.0193 - f1_score: 0.4930 - Accuracy: 3.8226e-04 - precision: 1.0000\n",
      "Epoch 90/200\n",
      "41/41 [==============================] - 2s 60ms/step - loss: 7.6641e-04 - MAE: 0.0192 - f1_score: 0.4930 - Accuracy: 3.8226e-04 - precision: 1.0000\n",
      "Epoch 91/200\n",
      "41/41 [==============================] - 2s 59ms/step - loss: 6.6709e-04 - MAE: 0.0181 - f1_score: 0.4930 - Accuracy: 3.8226e-04 - precision: 1.0000\n",
      "Epoch 92/200\n",
      "41/41 [==============================] - 2s 59ms/step - loss: 6.4787e-04 - MAE: 0.0180 - f1_score: 0.4930 - Accuracy: 3.8226e-04 - precision: 1.0000\n",
      "Epoch 93/200\n",
      "41/41 [==============================] - 2s 60ms/step - loss: 7.2731e-04 - MAE: 0.0186 - f1_score: 0.4930 - Accuracy: 3.8226e-04 - precision: 1.0000\n",
      "Epoch 94/200\n",
      "41/41 [==============================] - 2s 60ms/step - loss: 7.6504e-04 - MAE: 0.0193 - f1_score: 0.4930 - Accuracy: 3.8226e-04 - precision: 1.0000\n",
      "Epoch 95/200\n",
      "41/41 [==============================] - 2s 60ms/step - loss: 7.1448e-04 - MAE: 0.0186 - f1_score: 0.4930 - Accuracy: 3.8226e-04 - precision: 1.0000\n",
      "Epoch 96/200\n",
      "41/41 [==============================] - 3s 61ms/step - loss: 7.0727e-04 - MAE: 0.0189 - f1_score: 0.4930 - Accuracy: 3.8226e-04 - precision: 1.0000\n",
      "Epoch 97/200\n",
      "41/41 [==============================] - 2s 59ms/step - loss: 7.3105e-04 - MAE: 0.0188 - f1_score: 0.4930 - Accuracy: 3.8226e-04 - precision: 1.0000\n",
      "Epoch 98/200\n",
      "41/41 [==============================] - 2s 60ms/step - loss: 7.1291e-04 - MAE: 0.0189 - f1_score: 0.4930 - Accuracy: 3.8226e-04 - precision: 1.0000\n",
      "Epoch 99/200\n",
      "41/41 [==============================] - 2s 60ms/step - loss: 7.3761e-04 - MAE: 0.0191 - f1_score: 0.4930 - Accuracy: 3.8226e-04 - precision: 1.0000\n",
      "Epoch 100/200\n",
      "41/41 [==============================] - 2s 59ms/step - loss: 6.9977e-04 - MAE: 0.0188 - f1_score: 0.4930 - Accuracy: 3.8226e-04 - precision: 1.0000\n",
      "Epoch 101/200\n",
      "41/41 [==============================] - 2s 60ms/step - loss: 7.0808e-04 - MAE: 0.0191 - f1_score: 0.4930 - Accuracy: 3.8226e-04 - precision: 1.0000\n",
      "Epoch 102/200\n",
      "41/41 [==============================] - 2s 60ms/step - loss: 7.1916e-04 - MAE: 0.0191 - f1_score: 0.4930 - Accuracy: 3.8226e-04 - precision: 1.0000\n",
      "Epoch 103/200\n",
      "41/41 [==============================] - 2s 59ms/step - loss: 7.3529e-04 - MAE: 0.0195 - f1_score: 0.4930 - Accuracy: 3.8226e-04 - precision: 1.0000\n",
      "Epoch 104/200\n",
      "41/41 [==============================] - 2s 59ms/step - loss: 7.2017e-04 - MAE: 0.0190 - f1_score: 0.4930 - Accuracy: 3.8226e-04 - precision: 1.0000\n",
      "Epoch 105/200\n",
      "41/41 [==============================] - 2s 60ms/step - loss: 6.9773e-04 - MAE: 0.0182 - f1_score: 0.4930 - Accuracy: 3.8226e-04 - precision: 1.0000\n",
      "Epoch 106/200\n",
      "41/41 [==============================] - 2s 60ms/step - loss: 7.1118e-04 - MAE: 0.0193 - f1_score: 0.4930 - Accuracy: 3.8226e-04 - precision: 1.0000\n",
      "Epoch 107/200\n",
      "41/41 [==============================] - 3s 61ms/step - loss: 7.9018e-04 - MAE: 0.0200 - f1_score: 0.4930 - Accuracy: 3.8226e-04 - precision: 1.0000\n",
      "Epoch 108/200\n",
      "41/41 [==============================] - 2s 59ms/step - loss: 6.5836e-04 - MAE: 0.0183 - f1_score: 0.4930 - Accuracy: 3.8226e-04 - precision: 1.0000\n",
      "Epoch 109/200\n",
      "41/41 [==============================] - 2s 59ms/step - loss: 6.5398e-04 - MAE: 0.0181 - f1_score: 0.4930 - Accuracy: 3.8226e-04 - precision: 1.0000\n",
      "Epoch 110/200\n",
      "41/41 [==============================] - 2s 60ms/step - loss: 7.1463e-04 - MAE: 0.0187 - f1_score: 0.4930 - Accuracy: 3.8226e-04 - precision: 1.0000\n",
      "Epoch 111/200\n",
      "41/41 [==============================] - 2s 60ms/step - loss: 6.6001e-04 - MAE: 0.0181 - f1_score: 0.4930 - Accuracy: 3.8226e-04 - precision: 1.0000\n",
      "Epoch 112/200\n",
      "41/41 [==============================] - 2s 59ms/step - loss: 6.2659e-04 - MAE: 0.0176 - f1_score: 0.4930 - Accuracy: 3.8226e-04 - precision: 1.0000\n",
      "Epoch 113/200\n",
      "41/41 [==============================] - 2s 59ms/step - loss: 6.8439e-04 - MAE: 0.0185 - f1_score: 0.4930 - Accuracy: 3.8226e-04 - precision: 1.0000\n",
      "Epoch 114/200\n",
      "41/41 [==============================] - 2s 60ms/step - loss: 6.2976e-04 - MAE: 0.0179 - f1_score: 0.4930 - Accuracy: 3.8226e-04 - precision: 1.0000\n",
      "Epoch 115/200\n",
      "41/41 [==============================] - 2s 59ms/step - loss: 5.7132e-04 - MAE: 0.0174 - f1_score: 0.4930 - Accuracy: 3.8226e-04 - precision: 1.0000\n",
      "Epoch 116/200\n",
      "41/41 [==============================] - 2s 59ms/step - loss: 6.6756e-04 - MAE: 0.0182 - f1_score: 0.4930 - Accuracy: 3.8226e-04 - precision: 1.0000\n",
      "Epoch 117/200\n",
      "41/41 [==============================] - 2s 60ms/step - loss: 6.8690e-04 - MAE: 0.0193 - f1_score: 0.4930 - Accuracy: 3.8226e-04 - precision: 1.0000\n",
      "Epoch 118/200\n",
      "41/41 [==============================] - 2s 59ms/step - loss: 6.6413e-04 - MAE: 0.0185 - f1_score: 0.4930 - Accuracy: 3.8226e-04 - precision: 1.0000\n",
      "Epoch 119/200\n",
      "41/41 [==============================] - 2s 60ms/step - loss: 7.3203e-04 - MAE: 0.0191 - f1_score: 0.4930 - Accuracy: 3.8226e-04 - precision: 1.0000\n",
      "Epoch 120/200\n",
      "41/41 [==============================] - 2s 60ms/step - loss: 6.5322e-04 - MAE: 0.0181 - f1_score: 0.4930 - Accuracy: 3.8226e-04 - precision: 1.0000\n",
      "Epoch 121/200\n",
      "41/41 [==============================] - 2s 60ms/step - loss: 6.2288e-04 - MAE: 0.0179 - f1_score: 0.4930 - Accuracy: 3.8226e-04 - precision: 1.0000\n",
      "Epoch 122/200\n",
      "41/41 [==============================] - 2s 60ms/step - loss: 6.5413e-04 - MAE: 0.0183 - f1_score: 0.4930 - Accuracy: 3.8226e-04 - precision: 1.0000\n",
      "Epoch 123/200\n",
      "41/41 [==============================] - 2s 60ms/step - loss: 6.0992e-04 - MAE: 0.0175 - f1_score: 0.4930 - Accuracy: 3.8226e-04 - precision: 1.0000\n",
      "Epoch 124/200\n",
      "41/41 [==============================] - 2s 60ms/step - loss: 6.3738e-04 - MAE: 0.0180 - f1_score: 0.4930 - Accuracy: 3.8226e-04 - precision: 1.0000\n",
      "Epoch 125/200\n",
      "41/41 [==============================] - 2s 60ms/step - loss: 6.1045e-04 - MAE: 0.0179 - f1_score: 0.4930 - Accuracy: 3.8226e-04 - precision: 1.0000\n",
      "Epoch 126/200\n",
      "41/41 [==============================] - 2s 60ms/step - loss: 7.6989e-04 - MAE: 0.0197 - f1_score: 0.4930 - Accuracy: 3.8226e-04 - precision: 1.0000\n",
      "Epoch 127/200\n",
      "41/41 [==============================] - 2s 61ms/step - loss: 6.1639e-04 - MAE: 0.0174 - f1_score: 0.4930 - Accuracy: 3.8226e-04 - precision: 1.0000\n",
      "Epoch 128/200\n",
      "41/41 [==============================] - 3s 66ms/step - loss: 6.4313e-04 - MAE: 0.0184 - f1_score: 0.4930 - Accuracy: 3.8226e-04 - precision: 1.0000\n",
      "Epoch 129/200\n",
      "41/41 [==============================] - 3s 61ms/step - loss: 6.0903e-04 - MAE: 0.0174 - f1_score: 0.4930 - Accuracy: 3.8226e-04 - precision: 1.0000\n",
      "Epoch 130/200\n",
      "41/41 [==============================] - 3s 63ms/step - loss: 6.1387e-04 - MAE: 0.0178 - f1_score: 0.4930 - Accuracy: 3.8226e-04 - precision: 1.0000\n",
      "Epoch 131/200\n",
      "41/41 [==============================] - 2s 60ms/step - loss: 6.0762e-04 - MAE: 0.0175 - f1_score: 0.4930 - Accuracy: 3.8226e-04 - precision: 1.0000\n",
      "Epoch 132/200\n",
      "41/41 [==============================] - 2s 60ms/step - loss: 6.6515e-04 - MAE: 0.0186 - f1_score: 0.4930 - Accuracy: 3.8226e-04 - precision: 1.0000\n",
      "Epoch 133/200\n",
      "41/41 [==============================] - 2s 60ms/step - loss: 6.0954e-04 - MAE: 0.0180 - f1_score: 0.4930 - Accuracy: 3.8226e-04 - precision: 1.0000\n",
      "Epoch 134/200\n",
      "41/41 [==============================] - 2s 60ms/step - loss: 6.6001e-04 - MAE: 0.0185 - f1_score: 0.4930 - Accuracy: 3.8226e-04 - precision: 1.0000\n",
      "Epoch 135/200\n",
      "41/41 [==============================] - 2s 60ms/step - loss: 5.5422e-04 - MAE: 0.0168 - f1_score: 0.4930 - Accuracy: 3.8226e-04 - precision: 1.0000\n",
      "Epoch 136/200\n",
      "41/41 [==============================] - 2s 60ms/step - loss: 5.9546e-04 - MAE: 0.0175 - f1_score: 0.4930 - Accuracy: 3.8226e-04 - precision: 1.0000\n",
      "Epoch 137/200\n",
      "41/41 [==============================] - 2s 60ms/step - loss: 6.6609e-04 - MAE: 0.0184 - f1_score: 0.4930 - Accuracy: 3.8226e-04 - precision: 1.0000\n",
      "Epoch 138/200\n",
      "41/41 [==============================] - 2s 60ms/step - loss: 6.0867e-04 - MAE: 0.0178 - f1_score: 0.4930 - Accuracy: 3.8226e-04 - precision: 1.0000\n",
      "Epoch 139/200\n",
      "41/41 [==============================] - 2s 59ms/step - loss: 5.7878e-04 - MAE: 0.0168 - f1_score: 0.4930 - Accuracy: 3.8226e-04 - precision: 1.0000\n",
      "Epoch 140/200\n",
      "41/41 [==============================] - 2s 59ms/step - loss: 6.1671e-04 - MAE: 0.0176 - f1_score: 0.4930 - Accuracy: 3.8226e-04 - precision: 1.0000\n",
      "Epoch 141/200\n",
      "41/41 [==============================] - 2s 60ms/step - loss: 6.6748e-04 - MAE: 0.0186 - f1_score: 0.4930 - Accuracy: 3.8226e-04 - precision: 1.0000\n",
      "Epoch 142/200\n",
      "41/41 [==============================] - 2s 59ms/step - loss: 6.2122e-04 - MAE: 0.0178 - f1_score: 0.4930 - Accuracy: 3.8226e-04 - precision: 1.0000\n",
      "Epoch 143/200\n",
      "41/41 [==============================] - 2s 61ms/step - loss: 6.4627e-04 - MAE: 0.0183 - f1_score: 0.4930 - Accuracy: 3.8226e-04 - precision: 1.0000\n",
      "Epoch 144/200\n",
      "41/41 [==============================] - 2s 60ms/step - loss: 6.1887e-04 - MAE: 0.0178 - f1_score: 0.4930 - Accuracy: 3.8226e-04 - precision: 1.0000\n",
      "Epoch 145/200\n",
      "41/41 [==============================] - 2s 59ms/step - loss: 5.3390e-04 - MAE: 0.0167 - f1_score: 0.4930 - Accuracy: 3.8226e-04 - precision: 1.0000\n",
      "Epoch 146/200\n",
      "41/41 [==============================] - 2s 60ms/step - loss: 5.9961e-04 - MAE: 0.0176 - f1_score: 0.4930 - Accuracy: 3.8226e-04 - precision: 1.0000\n",
      "Epoch 147/200\n",
      "41/41 [==============================] - 2s 60ms/step - loss: 6.1083e-04 - MAE: 0.0174 - f1_score: 0.4930 - Accuracy: 3.8226e-04 - precision: 1.0000\n",
      "Epoch 148/200\n",
      "41/41 [==============================] - 2s 60ms/step - loss: 6.2296e-04 - MAE: 0.0182 - f1_score: 0.4930 - Accuracy: 3.8226e-04 - precision: 1.0000\n",
      "Epoch 149/200\n",
      "41/41 [==============================] - 2s 59ms/step - loss: 5.3474e-04 - MAE: 0.0167 - f1_score: 0.4930 - Accuracy: 3.8226e-04 - precision: 1.0000\n",
      "Epoch 150/200\n",
      "41/41 [==============================] - 2s 59ms/step - loss: 6.3485e-04 - MAE: 0.0181 - f1_score: 0.4930 - Accuracy: 3.8226e-04 - precision: 1.0000\n",
      "Epoch 151/200\n",
      "41/41 [==============================] - 2s 60ms/step - loss: 6.3370e-04 - MAE: 0.0180 - f1_score: 0.4930 - Accuracy: 3.8226e-04 - precision: 1.0000\n",
      "Epoch 152/200\n",
      "41/41 [==============================] - 2s 60ms/step - loss: 6.4750e-04 - MAE: 0.0182 - f1_score: 0.4930 - Accuracy: 3.8226e-04 - precision: 1.0000\n",
      "Epoch 153/200\n",
      "41/41 [==============================] - 2s 60ms/step - loss: 6.2260e-04 - MAE: 0.0178 - f1_score: 0.4930 - Accuracy: 3.8226e-04 - precision: 1.0000\n",
      "Epoch 154/200\n",
      "41/41 [==============================] - 2s 60ms/step - loss: 6.0666e-04 - MAE: 0.0181 - f1_score: 0.4930 - Accuracy: 3.8226e-04 - precision: 1.0000\n",
      "Epoch 155/200\n",
      "41/41 [==============================] - 2s 60ms/step - loss: 5.6271e-04 - MAE: 0.0171 - f1_score: 0.4930 - Accuracy: 3.8226e-04 - precision: 1.0000\n",
      "Epoch 156/200\n",
      "41/41 [==============================] - 2s 60ms/step - loss: 6.0963e-04 - MAE: 0.0176 - f1_score: 0.4930 - Accuracy: 3.8226e-04 - precision: 1.0000\n",
      "Epoch 157/200\n",
      "41/41 [==============================] - 2s 60ms/step - loss: 6.0304e-04 - MAE: 0.0180 - f1_score: 0.4930 - Accuracy: 3.8226e-04 - precision: 1.0000\n",
      "Epoch 158/200\n",
      "41/41 [==============================] - 2s 60ms/step - loss: 6.5630e-04 - MAE: 0.0187 - f1_score: 0.4930 - Accuracy: 3.8226e-04 - precision: 1.0000\n",
      "Epoch 159/200\n",
      "41/41 [==============================] - 2s 60ms/step - loss: 5.8455e-04 - MAE: 0.0172 - f1_score: 0.4930 - Accuracy: 3.8226e-04 - precision: 1.0000\n",
      "Epoch 160/200\n",
      "41/41 [==============================] - 2s 60ms/step - loss: 5.7849e-04 - MAE: 0.0172 - f1_score: 0.4930 - Accuracy: 3.8226e-04 - precision: 1.0000\n",
      "Epoch 161/200\n",
      "41/41 [==============================] - 2s 60ms/step - loss: 5.9101e-04 - MAE: 0.0174 - f1_score: 0.4930 - Accuracy: 3.8226e-04 - precision: 1.0000\n",
      "Epoch 162/200\n",
      "41/41 [==============================] - 2s 60ms/step - loss: 6.0856e-04 - MAE: 0.0175 - f1_score: 0.4930 - Accuracy: 3.8226e-04 - precision: 1.0000\n",
      "Epoch 163/200\n",
      "41/41 [==============================] - 2s 61ms/step - loss: 6.1566e-04 - MAE: 0.0175 - f1_score: 0.4930 - Accuracy: 3.8226e-04 - precision: 1.0000\n",
      "Epoch 164/200\n",
      "41/41 [==============================] - 2s 60ms/step - loss: 6.5186e-04 - MAE: 0.0187 - f1_score: 0.4930 - Accuracy: 3.8226e-04 - precision: 1.0000\n",
      "Epoch 165/200\n",
      "41/41 [==============================] - 2s 60ms/step - loss: 5.4833e-04 - MAE: 0.0172 - f1_score: 0.4930 - Accuracy: 3.8226e-04 - precision: 1.0000\n",
      "Epoch 166/200\n",
      "41/41 [==============================] - 2s 60ms/step - loss: 5.8365e-04 - MAE: 0.0177 - f1_score: 0.4930 - Accuracy: 3.8226e-04 - precision: 1.0000\n",
      "Epoch 167/200\n",
      "41/41 [==============================] - 2s 60ms/step - loss: 5.5723e-04 - MAE: 0.0170 - f1_score: 0.4930 - Accuracy: 3.8226e-04 - precision: 1.0000\n",
      "Epoch 168/200\n",
      "41/41 [==============================] - 2s 60ms/step - loss: 5.6717e-04 - MAE: 0.0171 - f1_score: 0.4930 - Accuracy: 3.8226e-04 - precision: 1.0000\n",
      "Epoch 169/200\n",
      "41/41 [==============================] - 3s 62ms/step - loss: 6.1269e-04 - MAE: 0.0178 - f1_score: 0.4930 - Accuracy: 3.8226e-04 - precision: 1.0000\n",
      "Epoch 170/200\n",
      "41/41 [==============================] - 3s 62ms/step - loss: 5.6381e-04 - MAE: 0.0170 - f1_score: 0.4930 - Accuracy: 3.8226e-04 - precision: 1.0000\n",
      "Epoch 171/200\n",
      "41/41 [==============================] - 2s 59ms/step - loss: 5.9246e-04 - MAE: 0.0172 - f1_score: 0.4930 - Accuracy: 3.8226e-04 - precision: 1.0000\n",
      "Epoch 172/200\n",
      "41/41 [==============================] - 2s 60ms/step - loss: 6.0643e-04 - MAE: 0.0181 - f1_score: 0.4930 - Accuracy: 3.8226e-04 - precision: 1.0000\n",
      "Epoch 173/200\n",
      "41/41 [==============================] - 2s 60ms/step - loss: 6.8731e-04 - MAE: 0.0187 - f1_score: 0.4930 - Accuracy: 3.8226e-04 - precision: 1.0000\n",
      "Epoch 174/200\n",
      "41/41 [==============================] - 2s 60ms/step - loss: 6.4696e-04 - MAE: 0.0183 - f1_score: 0.4930 - Accuracy: 3.8226e-04 - precision: 1.0000\n",
      "Epoch 175/200\n",
      "41/41 [==============================] - 2s 60ms/step - loss: 5.5785e-04 - MAE: 0.0170 - f1_score: 0.4930 - Accuracy: 3.8226e-04 - precision: 1.0000\n",
      "Epoch 176/200\n",
      "41/41 [==============================] - 2s 60ms/step - loss: 5.9623e-04 - MAE: 0.0174 - f1_score: 0.4930 - Accuracy: 3.8226e-04 - precision: 1.0000\n",
      "Epoch 177/200\n",
      "41/41 [==============================] - 2s 60ms/step - loss: 5.8059e-04 - MAE: 0.0174 - f1_score: 0.4930 - Accuracy: 3.8226e-04 - precision: 1.0000\n",
      "Epoch 178/200\n",
      "41/41 [==============================] - 2s 59ms/step - loss: 5.6803e-04 - MAE: 0.0172 - f1_score: 0.4930 - Accuracy: 3.8226e-04 - precision: 1.0000\n",
      "Epoch 179/200\n",
      "41/41 [==============================] - 3s 61ms/step - loss: 5.5372e-04 - MAE: 0.0168 - f1_score: 0.4930 - Accuracy: 3.8226e-04 - precision: 1.0000\n",
      "Epoch 180/200\n",
      "41/41 [==============================] - 2s 60ms/step - loss: 5.0665e-04 - MAE: 0.0160 - f1_score: 0.4930 - Accuracy: 3.8226e-04 - precision: 1.0000\n",
      "Epoch 181/200\n",
      "41/41 [==============================] - 2s 59ms/step - loss: 5.9799e-04 - MAE: 0.0182 - f1_score: 0.4930 - Accuracy: 3.8226e-04 - precision: 1.0000\n",
      "Epoch 182/200\n",
      "41/41 [==============================] - 2s 59ms/step - loss: 5.5263e-04 - MAE: 0.0169 - f1_score: 0.4930 - Accuracy: 3.8226e-04 - precision: 1.0000\n",
      "Epoch 183/200\n",
      "41/41 [==============================] - 2s 60ms/step - loss: 6.1695e-04 - MAE: 0.0176 - f1_score: 0.4930 - Accuracy: 3.8226e-04 - precision: 1.0000\n",
      "Epoch 184/200\n",
      "41/41 [==============================] - 2s 60ms/step - loss: 5.7143e-04 - MAE: 0.0171 - f1_score: 0.4930 - Accuracy: 3.8226e-04 - precision: 1.0000\n",
      "Epoch 185/200\n",
      "41/41 [==============================] - 2s 60ms/step - loss: 6.1779e-04 - MAE: 0.0179 - f1_score: 0.4930 - Accuracy: 3.8226e-04 - precision: 1.0000\n",
      "Epoch 186/200\n",
      "41/41 [==============================] - 2s 60ms/step - loss: 5.4316e-04 - MAE: 0.0168 - f1_score: 0.4930 - Accuracy: 3.8226e-04 - precision: 1.0000\n",
      "Epoch 187/200\n",
      "41/41 [==============================] - 2s 59ms/step - loss: 5.7681e-04 - MAE: 0.0171 - f1_score: 0.4930 - Accuracy: 3.8226e-04 - precision: 1.0000\n",
      "Epoch 188/200\n",
      "41/41 [==============================] - 3s 61ms/step - loss: 5.4173e-04 - MAE: 0.0169 - f1_score: 0.4930 - Accuracy: 3.8226e-04 - precision: 1.0000\n",
      "Epoch 189/200\n",
      "41/41 [==============================] - 2s 60ms/step - loss: 6.4999e-04 - MAE: 0.0182 - f1_score: 0.4930 - Accuracy: 3.8226e-04 - precision: 1.0000\n",
      "Epoch 190/200\n",
      "41/41 [==============================] - 2s 60ms/step - loss: 5.5280e-04 - MAE: 0.0171 - f1_score: 0.4930 - Accuracy: 3.8226e-04 - precision: 1.0000\n",
      "Epoch 191/200\n",
      "41/41 [==============================] - 2s 60ms/step - loss: 5.1752e-04 - MAE: 0.0165 - f1_score: 0.4930 - Accuracy: 3.8226e-04 - precision: 1.0000\n",
      "Epoch 192/200\n",
      "41/41 [==============================] - 2s 60ms/step - loss: 5.6408e-04 - MAE: 0.0171 - f1_score: 0.4930 - Accuracy: 3.8226e-04 - precision: 1.0000\n",
      "Epoch 193/200\n",
      "41/41 [==============================] - 2s 59ms/step - loss: 5.2418e-04 - MAE: 0.0164 - f1_score: 0.4930 - Accuracy: 3.8226e-04 - precision: 1.0000\n",
      "Epoch 194/200\n",
      "41/41 [==============================] - 2s 60ms/step - loss: 6.3945e-04 - MAE: 0.0183 - f1_score: 0.4930 - Accuracy: 3.8226e-04 - precision: 1.0000\n",
      "Epoch 195/200\n",
      "41/41 [==============================] - 2s 59ms/step - loss: 5.9332e-04 - MAE: 0.0174 - f1_score: 0.4930 - Accuracy: 3.8226e-04 - precision: 1.0000\n",
      "Epoch 196/200\n",
      "41/41 [==============================] - 2s 60ms/step - loss: 5.2947e-04 - MAE: 0.0166 - f1_score: 0.4930 - Accuracy: 3.8226e-04 - precision: 1.0000\n",
      "Epoch 197/200\n",
      "41/41 [==============================] - 2s 60ms/step - loss: 6.1230e-04 - MAE: 0.0178 - f1_score: 0.4930 - Accuracy: 3.8226e-04 - precision: 1.0000\n",
      "Epoch 198/200\n",
      "41/41 [==============================] - 3s 64ms/step - loss: 6.5221e-04 - MAE: 0.0182 - f1_score: 0.4930 - Accuracy: 3.8226e-04 - precision: 1.0000\n",
      "Epoch 199/200\n",
      "41/41 [==============================] - 3s 72ms/step - loss: 6.3803e-04 - MAE: 0.0183 - f1_score: 0.4930 - Accuracy: 3.8226e-04 - precision: 1.0000\n",
      "Epoch 200/200\n",
      "41/41 [==============================] - 3s 63ms/step - loss: 5.8190e-04 - MAE: 0.0174 - f1_score: 0.4930 - Accuracy: 3.8226e-04 - precision: 1.0000\n"
     ]
    },
    {
     "data": {
      "text/plain": [
       "<keras.src.callbacks.History at 0x7f6f9014fee0>"
      ]
     },
     "execution_count": 14,
     "metadata": {},
     "output_type": "execute_result"
    }
   ],
   "source": [
    "# Compiling the LSTM\n",
    "LSTM_model.compile(optimizer = 'adam', loss = 'mean_squared_error', metrics = ['MAE', 'F1Score', 'Accuracy', 'Precision'])\n",
    "# Fitting the RNN to the Training set\n",
    "LSTM_model.fit(X_train, y_train, epochs = 200, batch_size = 64)"
   ]
  },
  {
   "cell_type": "markdown",
   "id": "ba95d952-d522-4afa-a85f-7ba2c08bc23e",
   "metadata": {},
   "source": [
    "#### MAE of 0.0174. Is that good? It sounds good. Let's save this model. \n"
   ]
  },
  {
   "cell_type": "code",
   "execution_count": 15,
   "id": "8c56dfc8-50a2-49b5-9544-00ea93337ad8",
   "metadata": {},
   "outputs": [],
   "source": [
    "LSTM_model.save('LSTM_model-Module3.keras')"
   ]
  },
  {
   "cell_type": "markdown",
   "id": "a2fe31f2-b7ab-47da-8b0a-899713e1956c",
   "metadata": {},
   "source": [
    "### Now creating a test set"
   ]
  },
  {
   "cell_type": "code",
   "execution_count": 17,
   "id": "553f1d1a-6248-468a-ba91-bebc6822ca9b",
   "metadata": {},
   "outputs": [
    {
     "data": {
      "text/plain": [
       "(696, 1)"
      ]
     },
     "execution_count": 17,
     "metadata": {},
     "output_type": "execute_result"
    }
   ],
   "source": [
    "test = googl_adj_arr[training_data_len: , :]\n",
    "test.shape"
   ]
  },
  {
   "cell_type": "markdown",
   "id": "0fef9709-5efb-412a-a065-660b7634cf2c",
   "metadata": {},
   "source": [
    "### Going to do something interesting this time. Let's see if we can predict the 696 values, using 165 from the Train Data"
   ]
  },
  {
   "cell_type": "code",
   "execution_count": 18,
   "id": "2c865ff8-7e6f-45e2-87cd-cb0220d18ac9",
   "metadata": {},
   "outputs": [],
   "source": [
    "inputs = googl_adj_arr[len(googl_adj_arr) - len(test) - 165:]\n",
    "inputs = inputs.reshape(-1,1)\n",
    "inputs  = scaler.transform(inputs)"
   ]
  },
  {
   "cell_type": "code",
   "execution_count": 19,
   "id": "0544b359-c9d0-4582-bf4a-9e74c1d7a5e4",
   "metadata": {},
   "outputs": [],
   "source": [
    "# Create data sets X_test and y_test\n",
    "\n",
    "X_test = []\n",
    "y_test = googl_adj_arr[training_data_len:, :]\n",
    "for i in range(165,inputs.shape[0]):\n",
    "    X_test.append(inputs[i-165:i,0])"
   ]
  },
  {
   "cell_type": "code",
   "execution_count": 20,
   "id": "e486145a-8cee-45ba-b5bf-7b24ea5e69f8",
   "metadata": {},
   "outputs": [],
   "source": [
    "# Convert df back to numpy array\n",
    "\n",
    "X_test = np.array(X_test)"
   ]
  },
  {
   "cell_type": "code",
   "execution_count": 21,
   "id": "3925fac3-d590-44cf-99d2-50aff25969d2",
   "metadata": {},
   "outputs": [],
   "source": [
    "# Reshape data into 3D (because LSTM)\n",
    "X_test = np.reshape(X_test, (X_test.shape[0], X_test.shape[1], 1))"
   ]
  },
  {
   "cell_type": "code",
   "execution_count": 30,
   "id": "031ab07f-eff5-4678-b119-1cb9ec165eac",
   "metadata": {},
   "outputs": [
    {
     "name": "stdout",
     "output_type": "stream",
     "text": [
      "(696, 165, 1)\n"
     ]
    }
   ],
   "source": [
    "print(X_test.shape)"
   ]
  },
  {
   "cell_type": "markdown",
   "id": "f6a76cdd-6ebe-4256-8e0d-a389d6ed7be6",
   "metadata": {},
   "source": [
    "### Make Predictions using the Test Set"
   ]
  },
  {
   "cell_type": "code",
   "execution_count": 31,
   "id": "2bcd6d93-b953-4528-b24a-9d7d3743ac94",
   "metadata": {},
   "outputs": [
    {
     "name": "stdout",
     "output_type": "stream",
     "text": [
      "22/22 [==============================] - 1s 32ms/step\n"
     ]
    }
   ],
   "source": [
    "# We want predictions to contain same values as y_test data set\n",
    "predictions = LSTM_model.predict(X_test)\n",
    "predictions = scaler.inverse_transform(predictions)"
   ]
  },
  {
   "cell_type": "code",
   "execution_count": 32,
   "id": "51322c6b-4495-46c9-a7a6-cabea5b27198",
   "metadata": {},
   "outputs": [
    {
     "data": {
      "text/plain": [
       "(696, 1)"
      ]
     },
     "execution_count": 32,
     "metadata": {},
     "output_type": "execute_result"
    }
   ],
   "source": [
    "predictions.shape"
   ]
  },
  {
   "cell_type": "code",
   "execution_count": 33,
   "id": "72d4384c-49e6-4eaf-a2f7-2cb8155e96d5",
   "metadata": {},
   "outputs": [
    {
     "data": {
      "text/plain": [
       "5.320489258601747"
      ]
     },
     "execution_count": 33,
     "metadata": {},
     "output_type": "execute_result"
    }
   ],
   "source": [
    "rmse = np.sqrt(np.mean(predictions - y_test)**2)  \n",
    "rmse"
   ]
  },
  {
   "cell_type": "code",
   "execution_count": 35,
   "id": "51785da5-f941-4377-8fe0-21d784ff7504",
   "metadata": {},
   "outputs": [
    {
     "data": {
      "image/png": "[encoded data removed]",
      "text/plain": [
       "<Figure size 2000x1000 with 1 Axes>"
      ]
     },
     "metadata": {},
     "output_type": "display_data"
    }
   ],
   "source": [
    "# Plot predicted vs actual values  \n",
    "train = googl_adj[:training_data_len]\n",
    "test = googl_adj[training_data_len:]\n",
    "test['Predictions'] = predictions\n",
    "\n",
    "plt.figure(figsize=(20,10))\n",
    "sns.set_style(\"whitegrid\")\n",
    "plt.plot(train['Adj Close'], label='Training')\n",
    "plt.plot(test['Adj Close'], label='Actual')\n",
    "plt.plot(test['Predictions'], label='Predicted')\n",
    "plt.title(\"GOOGL Close Price - LSTM\", color = 'black', fontsize = 20)\n",
    "plt.xlabel('Year', color = 'black', fontsize = 15)\n",
    "plt.ylabel('Stock Price', color = 'black', fontsize = 15)\n",
    "plt.legend();"
   ]
  },
  {
   "cell_type": "code",
   "execution_count": 36,
   "id": "b43fb78a-5f73-4ffe-aa2a-fa6e527434bd",
   "metadata": {},
   "outputs": [
    {
     "data": {
      "text/html": [
       "<div>\n",
       "<style scoped>\n",
       "    .dataframe tbody tr th:only-of-type {\n",
       "        vertical-align: middle;\n",
       "    }\n",
       "\n",
       "    .dataframe tbody tr th {\n",
       "        vertical-align: top;\n",
       "    }\n",
       "\n",
       "    .dataframe thead th {\n",
       "        text-align: right;\n",
       "    }\n",
       "</style>\n",
       "<table border=\"1\" class=\"dataframe\">\n",
       "  <thead>\n",
       "    <tr style=\"text-align: right;\">\n",
       "      <th></th>\n",
       "      <th>Adj Close</th>\n",
       "      <th>Predictions</th>\n",
       "    </tr>\n",
       "    <tr>\n",
       "      <th>Date</th>\n",
       "      <th></th>\n",
       "      <th></th>\n",
       "    </tr>\n",
       "  </thead>\n",
       "  <tbody>\n",
       "    <tr>\n",
       "      <th>2021-01-21</th>\n",
       "      <td>94.207497</td>\n",
       "      <td>89.160263</td>\n",
       "    </tr>\n",
       "    <tr>\n",
       "      <th>2021-01-22</th>\n",
       "      <td>94.627998</td>\n",
       "      <td>90.812500</td>\n",
       "    </tr>\n",
       "    <tr>\n",
       "      <th>2021-01-25</th>\n",
       "      <td>94.713997</td>\n",
       "      <td>91.562912</td>\n",
       "    </tr>\n",
       "    <tr>\n",
       "      <th>2021-01-26</th>\n",
       "      <td>95.397499</td>\n",
       "      <td>91.862488</td>\n",
       "    </tr>\n",
       "    <tr>\n",
       "      <th>2021-01-27</th>\n",
       "      <td>90.946999</td>\n",
       "      <td>92.370155</td>\n",
       "    </tr>\n",
       "    <tr>\n",
       "      <th>...</th>\n",
       "      <td>...</td>\n",
       "      <td>...</td>\n",
       "    </tr>\n",
       "    <tr>\n",
       "      <th>2023-10-19</th>\n",
       "      <td>137.750000</td>\n",
       "      <td>129.960602</td>\n",
       "    </tr>\n",
       "    <tr>\n",
       "      <th>2023-10-20</th>\n",
       "      <td>135.600006</td>\n",
       "      <td>130.251312</td>\n",
       "    </tr>\n",
       "    <tr>\n",
       "      <th>2023-10-23</th>\n",
       "      <td>136.500000</td>\n",
       "      <td>128.792908</td>\n",
       "    </tr>\n",
       "    <tr>\n",
       "      <th>2023-10-24</th>\n",
       "      <td>138.809998</td>\n",
       "      <td>129.667175</td>\n",
       "    </tr>\n",
       "    <tr>\n",
       "      <th>2023-10-25</th>\n",
       "      <td>125.610001</td>\n",
       "      <td>130.459320</td>\n",
       "    </tr>\n",
       "  </tbody>\n",
       "</table>\n",
       "<p>696 rows × 2 columns</p>\n",
       "</div>"
      ],
      "text/plain": [
       "             Adj Close  Predictions\n",
       "Date                               \n",
       "2021-01-21   94.207497    89.160263\n",
       "2021-01-22   94.627998    90.812500\n",
       "2021-01-25   94.713997    91.562912\n",
       "2021-01-26   95.397499    91.862488\n",
       "2021-01-27   90.946999    92.370155\n",
       "...                ...          ...\n",
       "2023-10-19  137.750000   129.960602\n",
       "2023-10-20  135.600006   130.251312\n",
       "2023-10-23  136.500000   128.792908\n",
       "2023-10-24  138.809998   129.667175\n",
       "2023-10-25  125.610001   130.459320\n",
       "\n",
       "[696 rows x 2 columns]"
      ]
     },
     "execution_count": 36,
     "metadata": {},
     "output_type": "execute_result"
    }
   ],
   "source": [
    "# Show the actual and predicted prices  \n",
    "test"
   ]
  },
  {
   "cell_type": "code",
   "execution_count": 37,
   "id": "596968ea-fb82-4107-8588-aefb03d306fc",
   "metadata": {},
   "outputs": [
    {
     "name": "stdout",
     "output_type": "stream",
     "text": [
      "[*********************100%%**********************]  1 of 1 completed\n",
      "1/1 [==============================] - 0s 51ms/step\n",
      "[[121.997826]]\n"
     ]
    }
   ],
   "source": [
    "# Predict Adjusted Close price for GOOGL stock for October 27th 2023   \n",
    "# get the quote\n",
    "GOOGL_quote = yf.download(\"GOOGL\", start=\"2015-07-10\", end=\"2023-10-27\")\n",
    "# Create new df\n",
    "new_df = GOOGL_quote.filter(['Adj Close'])\n",
    "# Get last 165 days closing price and convert df to array])\n",
    "last_165_days = new_df[-165:].values\n",
    "# Scale data to be values between 0 and 1\n",
    "last_165_days_scaled = scaler.transform(last_165_days)\n",
    "# Create empty list\n",
    "X_test = []\n",
    "# Append last 165 days \n",
    "X_test.append(last_165_days_scaled)\n",
    "# Convert the X_test data set to numpy array\n",
    "X_test = np.array(X_test)\n",
    "# Reshape data\n",
    "X_test = np.reshape(X_test, (X_test.shape[0], X_test.shape[1], 1))\n",
    "# Get predicted price\n",
    "pred_price = LSTM_model.predict(X_test)\n",
    "# Undo the scaling\n",
    "pred_price = scaler.inverse_transform(pred_price)\n",
    "print(pred_price)"
   ]
  },
  {
   "cell_type": "code",
   "execution_count": 38,
   "id": "f305c417-e691-48d5-9183-7b3774795240",
   "metadata": {},
   "outputs": [
    {
     "name": "stdout",
     "output_type": "stream",
     "text": [
      "[*********************100%%**********************]  1 of 1 completed\n",
      "Date\n",
      "2023-10-26    122.279999\n",
      "Name: Adj Close, dtype: float64\n"
     ]
    }
   ],
   "source": [
    "# Actual price\n",
    "GOOGL_quote2 = yf.download(\"GOOGL\", start=\"2023-10-26\", end=\"2023-10-27\")\n",
    "print(GOOGL_quote2['Adj Close'])"
   ]
  },
  {
   "cell_type": "markdown",
   "id": "45431391-82e6-4aef-8c4c-4667b7758d6f",
   "metadata": {},
   "source": [
    "## Predicted Adjusted Close price for 10/27/2023 was 121.99 or ~122 but the Actual price was 122.279 or ~122.28. I was off by  0.2308% !!\n",
    "# Last update: 10/29/2023 21:17"
   ]
  },
  {
   "cell_type": "code",
   "execution_count": null,
   "id": "ce999361-6b81-4c4f-8e77-62a258777ab2",
   "metadata": {},
   "outputs": [],
   "source": []
  }
 ],
 "metadata": {
  "kernelspec": {
   "display_name": "Python 3 (ipykernel)",
   "language": "python",
   "name": "python3"
  },
  "language_info": {
   "codemirror_mode": {
    "name": "ipython",
    "version": 3
   },
   "file_extension": ".py",
   "mimetype": "text/x-python",
   "name": "python",
   "nbconvert_exporter": "python",
   "pygments_lexer": "ipython3",
   "version": "3.10.12"
  },
  "widgets": {
   "application/vnd.jupyter.widget-state+json": {
    "state": {},
    "version_major": 2,
    "version_minor": 0
   }
  }
 },
 "nbformat": 4,
 "nbformat_minor": 5
}
