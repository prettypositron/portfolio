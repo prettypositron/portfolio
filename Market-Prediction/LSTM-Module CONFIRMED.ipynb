{
 "cells": [
  {
   "cell_type": "markdown",
   "id": "085f00e1-6875-476a-8406-086e1e76e188",
   "metadata": {},
   "source": [
    "#"
   ]
  },
  {
   "cell_type": "code",
   "execution_count": 2,
   "id": "382ed911-4fdc-4431-b1e4-0285d083a6c8",
   "metadata": {},
   "outputs": [],
   "source": [
    "# Copyright 2023 Shane Khalid. All Rights Reserved.\n",
    "#\n",
    "# Licensed under the Apache License, Version 2.0 (the \"License\");\n",
    "# you may not use this file except in compliance with the License.\n",
    "# You may obtain a copy of the License at\n",
    "#\n",
    "#     http://www.apache.org/licenses/LICENSE-2.0\n",
    "#\n",
    "# Unless required by applicable law or agreed to in writing, software\n",
    "# distributed under the License is distributed on an \"AS IS\" BASIS,\n",
    "# WITHOUT WARRANTIES OR CONDITIONS OF ANY KIND, either express or implied.\n",
    "# See the License for the specific language governing permissions and\n",
    "# limitations under the License.\n",
    "# ==============================================================================License."
   ]
  },
  {
   "cell_type": "code",
   "execution_count": 1,
   "id": "82dea7bf-5954-475e-a9d1-892c6397862c",
   "metadata": {},
   "outputs": [
    {
     "name": "stderr",
     "output_type": "stream",
     "text": [
      "2023-10-28 00:03:07.297103: E tensorflow/compiler/xla/stream_executor/cuda/cuda_dnn.cc:9342] Unable to register cuDNN factory: Attempting to register factory for plugin cuDNN when one has already been registered\n",
      "2023-10-28 00:03:07.297159: E tensorflow/compiler/xla/stream_executor/cuda/cuda_fft.cc:609] Unable to register cuFFT factory: Attempting to register factory for plugin cuFFT when one has already been registered\n",
      "2023-10-28 00:03:07.298682: E tensorflow/compiler/xla/stream_executor/cuda/cuda_blas.cc:1518] Unable to register cuBLAS factory: Attempting to register factory for plugin cuBLAS when one has already been registered\n",
      "2023-10-28 00:03:07.444856: I tensorflow/core/platform/cpu_feature_guard.cc:182] This TensorFlow binary is optimized to use available CPU instructions in performance-critical operations.\n",
      "To enable the following instructions: AVX2 FMA, in other operations, rebuild TensorFlow with the appropriate compiler flags.\n"
     ]
    }
   ],
   "source": [
    "import yfinance as yf\n",
    "\n",
    "import pandas as pd\n",
    "import numpy as np\n",
    "import matplotlib.pyplot as plt\n",
    "import matplotlib.dates as dates\n",
    "import seaborn as sns\n",
    "import math\n",
    "import datetime\n",
    "import keras\n",
    "import warnings\n",
    "warnings.filterwarnings('ignore')\n",
    "\n",
    "from datetime import date, timedelta\n",
    "from keras.models import Sequential\n",
    "from keras.layers import Dense\n",
    "from keras.layers import LSTM\n",
    "from keras.layers import Dropout\n",
    "from keras.layers import *\n",
    "from keras.callbacks import EarlyStopping\n",
    "from sklearn.preprocessing import MinMaxScaler\n",
    "from sklearn.metrics import mean_squared_error\n",
    "from sklearn.metrics import mean_absolute_error\n",
    "\n",
    "%matplotlib inline"
   ]
  },
  {
   "cell_type": "code",
   "execution_count": 3,
   "id": "1cf2f026-af77-4374-92b5-d4d3f12afd50",
   "metadata": {},
   "outputs": [
    {
     "name": "stderr",
     "output_type": "stream",
     "text": [
      "2023-10-28 00:04:17.521101: I tensorflow/compiler/xla/stream_executor/cuda/cuda_gpu_executor.cc:880] could not open file to read NUMA node: /sys/bus/pci/devices/0000:43:00.0/numa_node\n",
      "Your kernel may have been built without NUMA support.\n",
      "2023-10-28 00:04:17.549403: I tensorflow/compiler/xla/stream_executor/cuda/cuda_gpu_executor.cc:880] could not open file to read NUMA node: /sys/bus/pci/devices/0000:43:00.0/numa_node\n",
      "Your kernel may have been built without NUMA support.\n",
      "2023-10-28 00:04:17.549462: I tensorflow/compiler/xla/stream_executor/cuda/cuda_gpu_executor.cc:880] could not open file to read NUMA node: /sys/bus/pci/devices/0000:43:00.0/numa_node\n",
      "Your kernel may have been built without NUMA support.\n"
     ]
    },
    {
     "name": "stdout",
     "output_type": "stream",
     "text": [
      "Num GPUs Available:  1\n",
      "GPU is available and being used.\n"
     ]
    }
   ],
   "source": [
    "import numpy as np\n",
    "import pandas as pd\n",
    "import tensorflow as tf\n",
    "\n",
    "import plotly.express as px\n",
    "import statsmodels.api as sm\n",
    "import matplotlib.pyplot as plt\n",
    "import plotly.graph_objects as go\n",
    "\n",
    "from tensorflow import keras\n",
    "\n",
    "from keras.layers import GRU, Dropout, SimpleRNN, LSTM, Dense, SimpleRNN, GRU\n",
    "from keras.models import Sequential\n",
    "from sklearn.preprocessing import MinMaxScaler\n",
    "print(\"Num GPUs Available: \", len(tf.config.experimental.list_physical_devices('GPU')))\n",
    "\n",
    "import torch\n",
    "if torch.cuda.is_available():\n",
    "    device = torch.device(\"cuda\")\n",
    "    print(\"GPU is available and being used.\")\n",
    "else:\n",
    "    device = torch.device(\"cpu\")\n",
    "    print(\"GPU is not available, using CPU instead.\")"
   ]
  },
  {
   "cell_type": "code",
   "execution_count": 5,
   "id": "04c8e4c5-ae0b-4ded-914e-07c2cce9d1a9",
   "metadata": {},
   "outputs": [
    {
     "name": "stdout",
     "output_type": "stream",
     "text": [
      "[*********************100%%**********************]  1 of 1 completed\n"
     ]
    },
    {
     "data": {
      "text/html": [
       "<div>\n",
       "<style scoped>\n",
       "    .dataframe tbody tr th:only-of-type {\n",
       "        vertical-align: middle;\n",
       "    }\n",
       "\n",
       "    .dataframe tbody tr th {\n",
       "        vertical-align: top;\n",
       "    }\n",
       "\n",
       "    .dataframe thead th {\n",
       "        text-align: right;\n",
       "    }\n",
       "</style>\n",
       "<table border=\"1\" class=\"dataframe\">\n",
       "  <thead>\n",
       "    <tr style=\"text-align: right;\">\n",
       "      <th></th>\n",
       "      <th>Open</th>\n",
       "      <th>High</th>\n",
       "      <th>Low</th>\n",
       "      <th>Close</th>\n",
       "      <th>Adj Close</th>\n",
       "      <th>Volume</th>\n",
       "    </tr>\n",
       "    <tr>\n",
       "      <th>Date</th>\n",
       "      <th></th>\n",
       "      <th></th>\n",
       "      <th></th>\n",
       "      <th></th>\n",
       "      <th></th>\n",
       "      <th></th>\n",
       "    </tr>\n",
       "  </thead>\n",
       "  <tbody>\n",
       "    <tr>\n",
       "      <th>2010-01-04</th>\n",
       "      <td>15.689439</td>\n",
       "      <td>15.753504</td>\n",
       "      <td>15.621622</td>\n",
       "      <td>15.684434</td>\n",
       "      <td>15.684434</td>\n",
       "      <td>78169752</td>\n",
       "    </tr>\n",
       "    <tr>\n",
       "      <th>2010-01-05</th>\n",
       "      <td>15.695195</td>\n",
       "      <td>15.711712</td>\n",
       "      <td>15.554054</td>\n",
       "      <td>15.615365</td>\n",
       "      <td>15.615365</td>\n",
       "      <td>120067812</td>\n",
       "    </tr>\n",
       "    <tr>\n",
       "      <th>2010-01-06</th>\n",
       "      <td>15.662162</td>\n",
       "      <td>15.662162</td>\n",
       "      <td>15.174174</td>\n",
       "      <td>15.221722</td>\n",
       "      <td>15.221722</td>\n",
       "      <td>158988852</td>\n",
       "    </tr>\n",
       "    <tr>\n",
       "      <th>2010-01-07</th>\n",
       "      <td>15.250250</td>\n",
       "      <td>15.265265</td>\n",
       "      <td>14.831081</td>\n",
       "      <td>14.867367</td>\n",
       "      <td>14.867367</td>\n",
       "      <td>256315428</td>\n",
       "    </tr>\n",
       "    <tr>\n",
       "      <th>2010-01-08</th>\n",
       "      <td>14.814815</td>\n",
       "      <td>15.096346</td>\n",
       "      <td>14.742492</td>\n",
       "      <td>15.065566</td>\n",
       "      <td>15.065566</td>\n",
       "      <td>188783028</td>\n",
       "    </tr>\n",
       "    <tr>\n",
       "      <th>...</th>\n",
       "      <td>...</td>\n",
       "      <td>...</td>\n",
       "      <td>...</td>\n",
       "      <td>...</td>\n",
       "      <td>...</td>\n",
       "      <td>...</td>\n",
       "    </tr>\n",
       "    <tr>\n",
       "      <th>2023-10-23</th>\n",
       "      <td>135.039993</td>\n",
       "      <td>137.660004</td>\n",
       "      <td>133.949997</td>\n",
       "      <td>136.500000</td>\n",
       "      <td>136.500000</td>\n",
       "      <td>26317900</td>\n",
       "    </tr>\n",
       "    <tr>\n",
       "      <th>2023-10-24</th>\n",
       "      <td>137.830002</td>\n",
       "      <td>139.360001</td>\n",
       "      <td>137.419998</td>\n",
       "      <td>138.809998</td>\n",
       "      <td>138.809998</td>\n",
       "      <td>44814300</td>\n",
       "    </tr>\n",
       "    <tr>\n",
       "      <th>2023-10-25</th>\n",
       "      <td>128.160004</td>\n",
       "      <td>128.309998</td>\n",
       "      <td>125.070000</td>\n",
       "      <td>125.610001</td>\n",
       "      <td>125.610001</td>\n",
       "      <td>84366200</td>\n",
       "    </tr>\n",
       "    <tr>\n",
       "      <th>2023-10-26</th>\n",
       "      <td>123.269997</td>\n",
       "      <td>124.330002</td>\n",
       "      <td>121.269997</td>\n",
       "      <td>122.279999</td>\n",
       "      <td>122.279999</td>\n",
       "      <td>57061100</td>\n",
       "    </tr>\n",
       "    <tr>\n",
       "      <th>2023-10-27</th>\n",
       "      <td>122.879997</td>\n",
       "      <td>123.309998</td>\n",
       "      <td>120.209999</td>\n",
       "      <td>122.169998</td>\n",
       "      <td>122.169998</td>\n",
       "      <td>44531100</td>\n",
       "    </tr>\n",
       "  </tbody>\n",
       "</table>\n",
       "<p>3479 rows × 6 columns</p>\n",
       "</div>"
      ],
      "text/plain": [
       "                  Open        High         Low       Close   Adj Close  \\\n",
       "Date                                                                     \n",
       "2010-01-04   15.689439   15.753504   15.621622   15.684434   15.684434   \n",
       "2010-01-05   15.695195   15.711712   15.554054   15.615365   15.615365   \n",
       "2010-01-06   15.662162   15.662162   15.174174   15.221722   15.221722   \n",
       "2010-01-07   15.250250   15.265265   14.831081   14.867367   14.867367   \n",
       "2010-01-08   14.814815   15.096346   14.742492   15.065566   15.065566   \n",
       "...                ...         ...         ...         ...         ...   \n",
       "2023-10-23  135.039993  137.660004  133.949997  136.500000  136.500000   \n",
       "2023-10-24  137.830002  139.360001  137.419998  138.809998  138.809998   \n",
       "2023-10-25  128.160004  128.309998  125.070000  125.610001  125.610001   \n",
       "2023-10-26  123.269997  124.330002  121.269997  122.279999  122.279999   \n",
       "2023-10-27  122.879997  123.309998  120.209999  122.169998  122.169998   \n",
       "\n",
       "               Volume  \n",
       "Date                   \n",
       "2010-01-04   78169752  \n",
       "2010-01-05  120067812  \n",
       "2010-01-06  158988852  \n",
       "2010-01-07  256315428  \n",
       "2010-01-08  188783028  \n",
       "...               ...  \n",
       "2023-10-23   26317900  \n",
       "2023-10-24   44814300  \n",
       "2023-10-25   84366200  \n",
       "2023-10-26   57061100  \n",
       "2023-10-27   44531100  \n",
       "\n",
       "[3479 rows x 6 columns]"
      ]
     },
     "execution_count": 5,
     "metadata": {},
     "output_type": "execute_result"
    }
   ],
   "source": [
    "GOOGL_df = yf.download(\"GOOGL\", start=\"2010-01-01\", end=\"2023-10-28\")\n",
    "GOOGL_df\n"
   ]
  },
  {
   "cell_type": "code",
   "execution_count": 6,
   "id": "1b70d4ef-3c77-4f79-ac63-40cf9ad67918",
   "metadata": {},
   "outputs": [
    {
     "data": {
      "image/png": "[encoded data removed]",
      "text/plain": [
       "<Figure size 640x480 with 1 Axes>"
      ]
     },
     "metadata": {},
     "output_type": "display_data"
    }
   ],
   "source": [
    "# Plot Adjusted Close Price\n",
    "\n",
    "GOOGL_df['Adj Close'].plot(grid = True)\n",
    "sns.set(rc={'figure.figsize':(16, 8)})\n",
    "plt.title('GOOGL Adjusted Close Price', color = 'black', fontsize = 20)\n",
    "plt.xlabel('Year', color = 'black', fontsize = 15)\n",
    "plt.ylabel('Stock price', color = 'black', fontsize = 15);"
   ]
  },
  {
   "cell_type": "code",
   "execution_count": 7,
   "id": "21921336-22ed-4b85-a7f3-b25a71014062",
   "metadata": {},
   "outputs": [
    {
     "data": {
      "text/html": [
       "<div>\n",
       "<style scoped>\n",
       "    .dataframe tbody tr th:only-of-type {\n",
       "        vertical-align: middle;\n",
       "    }\n",
       "\n",
       "    .dataframe tbody tr th {\n",
       "        vertical-align: top;\n",
       "    }\n",
       "\n",
       "    .dataframe thead th {\n",
       "        text-align: right;\n",
       "    }\n",
       "</style>\n",
       "<table border=\"1\" class=\"dataframe\">\n",
       "  <thead>\n",
       "    <tr style=\"text-align: right;\">\n",
       "      <th></th>\n",
       "      <th>Adj Close</th>\n",
       "    </tr>\n",
       "    <tr>\n",
       "      <th>Date</th>\n",
       "      <th></th>\n",
       "    </tr>\n",
       "  </thead>\n",
       "  <tbody>\n",
       "    <tr>\n",
       "      <th>2010-01-04</th>\n",
       "      <td>15.684434</td>\n",
       "    </tr>\n",
       "    <tr>\n",
       "      <th>2010-01-05</th>\n",
       "      <td>15.615365</td>\n",
       "    </tr>\n",
       "    <tr>\n",
       "      <th>2010-01-06</th>\n",
       "      <td>15.221722</td>\n",
       "    </tr>\n",
       "    <tr>\n",
       "      <th>2010-01-07</th>\n",
       "      <td>14.867367</td>\n",
       "    </tr>\n",
       "    <tr>\n",
       "      <th>2010-01-08</th>\n",
       "      <td>15.065566</td>\n",
       "    </tr>\n",
       "    <tr>\n",
       "      <th>...</th>\n",
       "      <td>...</td>\n",
       "    </tr>\n",
       "    <tr>\n",
       "      <th>2023-10-23</th>\n",
       "      <td>136.500000</td>\n",
       "    </tr>\n",
       "    <tr>\n",
       "      <th>2023-10-24</th>\n",
       "      <td>138.809998</td>\n",
       "    </tr>\n",
       "    <tr>\n",
       "      <th>2023-10-25</th>\n",
       "      <td>125.610001</td>\n",
       "    </tr>\n",
       "    <tr>\n",
       "      <th>2023-10-26</th>\n",
       "      <td>122.279999</td>\n",
       "    </tr>\n",
       "    <tr>\n",
       "      <th>2023-10-27</th>\n",
       "      <td>122.169998</td>\n",
       "    </tr>\n",
       "  </tbody>\n",
       "</table>\n",
       "<p>3479 rows × 1 columns</p>\n",
       "</div>"
      ],
      "text/plain": [
       "             Adj Close\n",
       "Date                  \n",
       "2010-01-04   15.684434\n",
       "2010-01-05   15.615365\n",
       "2010-01-06   15.221722\n",
       "2010-01-07   14.867367\n",
       "2010-01-08   15.065566\n",
       "...                ...\n",
       "2023-10-23  136.500000\n",
       "2023-10-24  138.809998\n",
       "2023-10-25  125.610001\n",
       "2023-10-26  122.279999\n",
       "2023-10-27  122.169998\n",
       "\n",
       "[3479 rows x 1 columns]"
      ]
     },
     "execution_count": 7,
     "metadata": {},
     "output_type": "execute_result"
    }
   ],
   "source": [
    "# Create dataframe for Adjusted Close Price\n",
    "\n",
    "GOOGL_adj = GOOGL_df[['Adj Close']]\n",
    "GOOGL_adj"
   ]
  },
  {
   "cell_type": "markdown",
   "id": "4a9f5c1d-330f-477f-84ec-ae1f5ffd9b37",
   "metadata": {},
   "source": [
    "### Step 4. Create Training Dataset\n",
    "##### 80% Training set"
   ]
  },
  {
   "cell_type": "code",
   "execution_count": 9,
   "id": "b580375e-1012-4d7e-b043-7a9ef540124d",
   "metadata": {},
   "outputs": [
    {
     "data": {
      "text/plain": [
       "2783"
      ]
     },
     "execution_count": 9,
     "metadata": {},
     "output_type": "execute_result"
    }
   ],
   "source": [
    "# Convert DataFrame to numpy array\n",
    "GOOGL_adj_arr = GOOGL_adj.values\n",
    "\n",
    "# Find number of rows to train model on (80% of data set) \n",
    "training_data_len = int(0.8*len(GOOGL_adj))\n",
    "\n",
    "training_data_len\n",
    "     "
   ]
  },
  {
   "cell_type": "code",
   "execution_count": 10,
   "id": "96a4d0ab-e277-4cc7-a63e-15ec31500c58",
   "metadata": {},
   "outputs": [],
   "source": [
    "# Create train data set\n",
    "train = GOOGL_adj_arr[0:training_data_len, :]\n"
   ]
  },
  {
   "cell_type": "markdown",
   "id": "73033dd0-4b3a-4a9a-8ae6-10422b8221fc",
   "metadata": {},
   "source": [
    "Feature scaling\n",
    "We will normalise the training data before model fitting by converting the values of numeric columns in the data set to a common scale. Scikit-Learn’s MinMaxScaler() function scales the data to values between 0 and 1 which helps boost performance."
   ]
  },
  {
   "cell_type": "code",
   "execution_count": 11,
   "id": "9a9a4782-d7ff-412b-8582-ed879b07da66",
   "metadata": {},
   "outputs": [
    {
     "data": {
      "text/plain": [
       "array([[0.05699996],\n",
       "       [0.05617491],\n",
       "       [0.05147275],\n",
       "       ...,\n",
       "       [0.99254024],\n",
       "       [0.994977  ],\n",
       "       [1.        ]])"
      ]
     },
     "execution_count": 11,
     "metadata": {},
     "output_type": "execute_result"
    }
   ],
   "source": [
    "# Normalise the data\n",
    "scaler = MinMaxScaler(feature_range=(0,1))\n",
    "train_scaled = scaler.fit_transform(train)\n",
    "\n",
    "train_scaled"
   ]
  },
  {
   "cell_type": "code",
   "execution_count": 12,
   "id": "76afac2f-f2bb-41d4-8be2-5dc4c8c088ff",
   "metadata": {},
   "outputs": [
    {
     "data": {
      "text/plain": [
       "(2783, 1)"
      ]
     },
     "execution_count": 12,
     "metadata": {},
     "output_type": "execute_result"
    }
   ],
   "source": [
    "train_scaled.shape"
   ]
  },
  {
   "cell_type": "markdown",
   "id": "6ca2c2f4-59fa-4c9e-b7b1-dfc92633cdf1",
   "metadata": {},
   "source": [
    "Split training data into X_train, y_train"
   ]
  },
  {
   "cell_type": "code",
   "execution_count": 29,
   "id": "428d8927-2e82-4aab-a4fd-e5c3ee44b5f2",
   "metadata": {},
   "outputs": [
    {
     "name": "stdout",
     "output_type": "stream",
     "text": [
      "[array([0.05699996, 0.05617491, 0.05147275, 0.04723989, 0.04960743,\n",
      "       0.0493354 , 0.04615778, 0.0451444 , 0.04596945, 0.04302499,\n",
      "       0.04530283, 0.04314754, 0.0439158 , 0.03406008, 0.03106779,\n",
      "       0.03179119, 0.03169554, 0.0293609 , 0.02806055, 0.02898125,\n",
      "       0.02841329, 0.0313129 , 0.02711593, 0.02846411, 0.02911577,\n",
      "       0.03000359, 0.02940873, 0.02999163, 0.02901114, 0.0314564 ,\n",
      "       0.0305327 , 0.03203034, 0.03129497, 0.03190479, 0.02959405,\n",
      "       0.02851791, 0.02701131, 0.0271219 , 0.02888261, 0.03138465,\n",
      "       0.0326581 , 0.03542918, 0.03830487, 0.03778773, 0.03710319,\n",
      "       0.04196379, 0.04336577, 0.04288748, 0.03799698, 0.03860082,\n",
      "       0.03870844, 0.03895954, 0.03704639, 0.03629906, 0.03375816,\n",
      "       0.03624824, 0.03790731, 0.03785051, 0.03777876, 0.03905221,\n",
      "       0.03917477, 0.03967696, 0.04033761, 0.03950359, 0.0381046 ,\n",
      "       0.03928537, 0.03890574, 0.04085177, 0.04504874, 0.04571536,\n",
      "       0.04759861, 0.03410193, 0.03408697, 0.03556369, 0.03534248,\n",
      "       0.03317823, 0.03255944, 0.02856873, 0.0277975 , 0.02783636,\n",
      "       0.02867634, 0.02679309, 0.02825784, 0.02101477, 0.02202814,\n",
      "       0.01871301, 0.01705993, 0.02558242, 0.0218159 , 0.02072181,\n",
      "       0.02236295, 0.02136152, 0.02149305, 0.01862333, 0.01744555,\n",
      "       0.01164033, 0.01075549, 0.01228302, 0.01225613, 0.01177784,\n",
      "       0.0162588 , 0.01481496, 0.01384044, 0.01712868, 0.02078459,\n",
      "       0.01872795, 0.01478208, 0.01456087, 0.01134438, 0.01522748,\n",
      "       0.01567289, 0.01408557, 0.01850973, 0.01949023, 0.0191345 ,\n",
      "       0.01911955, 0.01569082, 0.01500029, 0.01374478, 0.01166722,\n",
      "       0.01094382, 0.01076446, 0.00543753, 0.00265449, 0.00102233,\n",
      "       0.00014348, 0.        , 0.00422387, 0.00612506, 0.00939237,\n",
      "       0.01188545, 0.01588214, 0.01652186, 0.01732298, 0.0070368 ,\n",
      "       0.00900077, 0.01360728, 0.01238465, 0.01456984, 0.01613923,\n",
      "       0.01581339, 0.01690747, 0.01443233, 0.01462364, 0.01458179,\n",
      "       0.01624385, 0.01607047, 0.02099983, 0.02153191, 0.01917635,\n",
      "       0.02070985, 0.02021961, 0.01664143, 0.01672214, 0.0150302 ,\n",
      "       0.01480301, 0.01627673, 0.01377469, 0.00953586, 0.00775723,\n",
      "       0.00837003, 0.0045796 , 0.00554514, 0.00445704, 0.00680364])]\n",
      "[array([0.00496821])]\n",
      "\n",
      "[array([0.05699996, 0.05617491, 0.05147275, 0.04723989, 0.04960743,\n",
      "       0.0493354 , 0.04615778, 0.0451444 , 0.04596945, 0.04302499,\n",
      "       0.04530283, 0.04314754, 0.0439158 , 0.03406008, 0.03106779,\n",
      "       0.03179119, 0.03169554, 0.0293609 , 0.02806055, 0.02898125,\n",
      "       0.02841329, 0.0313129 , 0.02711593, 0.02846411, 0.02911577,\n",
      "       0.03000359, 0.02940873, 0.02999163, 0.02901114, 0.0314564 ,\n",
      "       0.0305327 , 0.03203034, 0.03129497, 0.03190479, 0.02959405,\n",
      "       0.02851791, 0.02701131, 0.0271219 , 0.02888261, 0.03138465,\n",
      "       0.0326581 , 0.03542918, 0.03830487, 0.03778773, 0.03710319,\n",
      "       0.04196379, 0.04336577, 0.04288748, 0.03799698, 0.03860082,\n",
      "       0.03870844, 0.03895954, 0.03704639, 0.03629906, 0.03375816,\n",
      "       0.03624824, 0.03790731, 0.03785051, 0.03777876, 0.03905221,\n",
      "       0.03917477, 0.03967696, 0.04033761, 0.03950359, 0.0381046 ,\n",
      "       0.03928537, 0.03890574, 0.04085177, 0.04504874, 0.04571536,\n",
      "       0.04759861, 0.03410193, 0.03408697, 0.03556369, 0.03534248,\n",
      "       0.03317823, 0.03255944, 0.02856873, 0.0277975 , 0.02783636,\n",
      "       0.02867634, 0.02679309, 0.02825784, 0.02101477, 0.02202814,\n",
      "       0.01871301, 0.01705993, 0.02558242, 0.0218159 , 0.02072181,\n",
      "       0.02236295, 0.02136152, 0.02149305, 0.01862333, 0.01744555,\n",
      "       0.01164033, 0.01075549, 0.01228302, 0.01225613, 0.01177784,\n",
      "       0.0162588 , 0.01481496, 0.01384044, 0.01712868, 0.02078459,\n",
      "       0.01872795, 0.01478208, 0.01456087, 0.01134438, 0.01522748,\n",
      "       0.01567289, 0.01408557, 0.01850973, 0.01949023, 0.0191345 ,\n",
      "       0.01911955, 0.01569082, 0.01500029, 0.01374478, 0.01166722,\n",
      "       0.01094382, 0.01076446, 0.00543753, 0.00265449, 0.00102233,\n",
      "       0.00014348, 0.        , 0.00422387, 0.00612506, 0.00939237,\n",
      "       0.01188545, 0.01588214, 0.01652186, 0.01732298, 0.0070368 ,\n",
      "       0.00900077, 0.01360728, 0.01238465, 0.01456984, 0.01613923,\n",
      "       0.01581339, 0.01690747, 0.01443233, 0.01462364, 0.01458179,\n",
      "       0.01624385, 0.01607047, 0.02099983, 0.02153191, 0.01917635,\n",
      "       0.02070985, 0.02021961, 0.01664143, 0.01672214, 0.0150302 ,\n",
      "       0.01480301, 0.01627673, 0.01377469, 0.00953586, 0.00775723,\n",
      "       0.00837003, 0.0045796 , 0.00554514, 0.00445704, 0.00680364]), array([0.05617491, 0.05147275, 0.04723989, 0.04960743, 0.0493354 ,\n",
      "       0.04615778, 0.0451444 , 0.04596945, 0.04302499, 0.04530283,\n",
      "       0.04314754, 0.0439158 , 0.03406008, 0.03106779, 0.03179119,\n",
      "       0.03169554, 0.0293609 , 0.02806055, 0.02898125, 0.02841329,\n",
      "       0.0313129 , 0.02711593, 0.02846411, 0.02911577, 0.03000359,\n",
      "       0.02940873, 0.02999163, 0.02901114, 0.0314564 , 0.0305327 ,\n",
      "       0.03203034, 0.03129497, 0.03190479, 0.02959405, 0.02851791,\n",
      "       0.02701131, 0.0271219 , 0.02888261, 0.03138465, 0.0326581 ,\n",
      "       0.03542918, 0.03830487, 0.03778773, 0.03710319, 0.04196379,\n",
      "       0.04336577, 0.04288748, 0.03799698, 0.03860082, 0.03870844,\n",
      "       0.03895954, 0.03704639, 0.03629906, 0.03375816, 0.03624824,\n",
      "       0.03790731, 0.03785051, 0.03777876, 0.03905221, 0.03917477,\n",
      "       0.03967696, 0.04033761, 0.03950359, 0.0381046 , 0.03928537,\n",
      "       0.03890574, 0.04085177, 0.04504874, 0.04571536, 0.04759861,\n",
      "       0.03410193, 0.03408697, 0.03556369, 0.03534248, 0.03317823,\n",
      "       0.03255944, 0.02856873, 0.0277975 , 0.02783636, 0.02867634,\n",
      "       0.02679309, 0.02825784, 0.02101477, 0.02202814, 0.01871301,\n",
      "       0.01705993, 0.02558242, 0.0218159 , 0.02072181, 0.02236295,\n",
      "       0.02136152, 0.02149305, 0.01862333, 0.01744555, 0.01164033,\n",
      "       0.01075549, 0.01228302, 0.01225613, 0.01177784, 0.0162588 ,\n",
      "       0.01481496, 0.01384044, 0.01712868, 0.02078459, 0.01872795,\n",
      "       0.01478208, 0.01456087, 0.01134438, 0.01522748, 0.01567289,\n",
      "       0.01408557, 0.01850973, 0.01949023, 0.0191345 , 0.01911955,\n",
      "       0.01569082, 0.01500029, 0.01374478, 0.01166722, 0.01094382,\n",
      "       0.01076446, 0.00543753, 0.00265449, 0.00102233, 0.00014348,\n",
      "       0.        , 0.00422387, 0.00612506, 0.00939237, 0.01188545,\n",
      "       0.01588214, 0.01652186, 0.01732298, 0.0070368 , 0.00900077,\n",
      "       0.01360728, 0.01238465, 0.01456984, 0.01613923, 0.01581339,\n",
      "       0.01690747, 0.01443233, 0.01462364, 0.01458179, 0.01624385,\n",
      "       0.01607047, 0.02099983, 0.02153191, 0.01917635, 0.02070985,\n",
      "       0.02021961, 0.01664143, 0.01672214, 0.0150302 , 0.01480301,\n",
      "       0.01627673, 0.01377469, 0.00953586, 0.00775723, 0.00837003,\n",
      "       0.0045796 , 0.00554514, 0.00445704, 0.00680364, 0.00496821])]\n",
      "[array([0.00496821]), array([0.00417006])]\n",
      "\n"
     ]
    }
   ],
   "source": [
    "# Creating a data structure with 60 time-steps and 1 output\n",
    "\n",
    "# Split data into X_train and y_train data sets\n",
    "X_train = []\n",
    "y_train = []\n",
    "# Creating a data structure with 165 time-steps and 1 output\n",
    "for i in range(165, len(train_scaled)):\n",
    "    X_train.append(train_scaled[i-165:i, 0])\n",
    "    y_train.append(train_scaled[i:i+1, 0])  \n",
    "    if i <= 166:     # 165 days for first pass, 166 for second\n",
    "      print(X_train)\n",
    "      print(y_train)\n",
    "      print()"
   ]
  },
  {
   "cell_type": "code",
   "execution_count": 33,
   "id": "a2470419-69b2-4101-b420-16b111b87734",
   "metadata": {},
   "outputs": [],
   "source": [
    "# Convert X_train and y_train to numpy arrays for training LSTM model\n",
    "X_train, y_train = np.array(X_train), np.array(y_train)"
   ]
  },
  {
   "cell_type": "code",
   "execution_count": 34,
   "id": "f74861bf-cc7f-4232-a322-3ae81ef81d2f",
   "metadata": {},
   "outputs": [
    {
     "data": {
      "text/plain": [
       "(2618, 165, 1)"
      ]
     },
     "execution_count": 34,
     "metadata": {},
     "output_type": "execute_result"
    }
   ],
   "source": [
    "# Reshape the data as LSTM expects 3-D data (samples, time steps, features)\n",
    "\n",
    "X_train = np.reshape(X_train, (X_train.shape[0], X_train.shape[1], 1))\n",
    "X_train.shape"
   ]
  },
  {
   "cell_type": "markdown",
   "id": "d2937cc5-5a60-4305-94c8-1a82848b647e",
   "metadata": {},
   "source": [
    "Create and train model\r\n",
    "We will create and train a model with four recurrent layers each with 50 neurons, input shape of data with number of time steps (60) and dimensionality (1), and an output layer with time step of 1, and the tanh activation function. Dropout will be used after each hidden layer as a regularisation technique to prevent overfitting. The model will be compiled using the Mean Squared Error loss function and the adam (Adaptive Moment Estimation) optimizer then fitted on the training set for 200 epochs with a batch size of 64."
   ]
  },
  {
   "cell_type": "code",
   "execution_count": 35,
   "id": "8c19c604-f819-47e2-9c7e-d39393ce7cb3",
   "metadata": {},
   "outputs": [
    {
     "name": "stdout",
     "output_type": "stream",
     "text": [
      "Model: \"sequential_2\"\n",
      "_________________________________________________________________\n",
      " Layer (type)                Output Shape              Param #   \n",
      "=================================================================\n",
      " lstm_8 (LSTM)               (None, 165, 50)           10400     \n",
      "                                                                 \n",
      " dropout_8 (Dropout)         (None, 165, 50)           0         \n",
      "                                                                 \n",
      " lstm_9 (LSTM)               (None, 165, 50)           20200     \n",
      "                                                                 \n",
      " dropout_9 (Dropout)         (None, 165, 50)           0         \n",
      "                                                                 \n",
      " lstm_10 (LSTM)              (None, 165, 50)           20200     \n",
      "                                                                 \n",
      " dropout_10 (Dropout)        (None, 165, 50)           0         \n",
      "                                                                 \n",
      " lstm_11 (LSTM)              (None, 50)                20200     \n",
      "                                                                 \n",
      " dropout_11 (Dropout)        (None, 50)                0         \n",
      "                                                                 \n",
      " dense_2 (Dense)             (None, 1)                 51        \n",
      "                                                                 \n",
      "=================================================================\n",
      "Total params: 71051 (277.54 KB)\n",
      "Trainable params: 71051 (277.54 KB)\n",
      "Non-trainable params: 0 (0.00 Byte)\n",
      "_________________________________________________________________\n"
     ]
    }
   ],
   "source": [
    "# Build model - LSTM with 50 neurons and 4 hidden layers  \n",
    "\n",
    "LSTM_model = Sequential()\n",
    "#Adding the first LSTM layer and some Dropout regularisation\n",
    "LSTM_model.add(LSTM(units = 50, return_sequences = True, input_shape = (X_train.shape[1], 1), activation='tanh'))\n",
    "LSTM_model.add(Dropout(0.2))\n",
    "# Adding a second LSTM layer and some Dropout regularisation\n",
    "LSTM_model.add(LSTM(units = 50, return_sequences = True, activation='tanh'))\n",
    "LSTM_model.add(Dropout(0.2))\n",
    "# Adding a third LSTM layer and some Dropout regularisation\n",
    "LSTM_model.add(LSTM(units = 50, return_sequences = True, activation='tanh'))\n",
    "LSTM_model.add(Dropout(0.2))\n",
    "# Adding a fourth LSTM layer and some Dropout regularisation\n",
    "LSTM_model.add(LSTM(units = 50, activation='tanh'))\n",
    "LSTM_model.add(Dropout(0.2))\n",
    "# Adding the output layer\n",
    "LSTM_model.add(Dense(units = 1))\n",
    "\n",
    "LSTM_model.summary()"
   ]
  },
  {
   "cell_type": "code",
   "execution_count": 36,
   "id": "12f7bd3c-b31d-4fcb-a9f9-13e0f9a93500",
   "metadata": {},
   "outputs": [
    {
     "name": "stdout",
     "output_type": "stream",
     "text": [
      "Epoch 1/200\n",
      "41/41 [==============================] - 7s 58ms/step - loss: 0.0170 - f1_score: 0.4908 - Accuracy: 3.8197e-04 - precision: 1.0000\n",
      "Epoch 2/200\n",
      "41/41 [==============================] - 2s 57ms/step - loss: 0.0028 - f1_score: 0.4908 - Accuracy: 3.8197e-04 - precision: 1.0000\n",
      "Epoch 3/200\n",
      "41/41 [==============================] - 2s 55ms/step - loss: 0.0025 - f1_score: 0.4908 - Accuracy: 3.8197e-04 - precision: 1.0000\n",
      "Epoch 4/200\n",
      "41/41 [==============================] - 2s 55ms/step - loss: 0.0024 - f1_score: 0.4908 - Accuracy: 3.8197e-04 - precision: 1.0000\n",
      "Epoch 5/200\n",
      "41/41 [==============================] - 2s 55ms/step - loss: 0.0020 - f1_score: 0.4908 - Accuracy: 3.8197e-04 - precision: 1.0000\n",
      "Epoch 6/200\n",
      "41/41 [==============================] - 2s 57ms/step - loss: 0.0021 - f1_score: 0.4908 - Accuracy: 3.8197e-04 - precision: 1.0000\n",
      "Epoch 7/200\n",
      "41/41 [==============================] - 2s 52ms/step - loss: 0.0019 - f1_score: 0.4908 - Accuracy: 3.8197e-04 - precision: 1.0000\n",
      "Epoch 8/200\n",
      "41/41 [==============================] - 2s 53ms/step - loss: 0.0019 - f1_score: 0.4908 - Accuracy: 3.8197e-04 - precision: 1.0000\n",
      "Epoch 9/200\n",
      "41/41 [==============================] - 2s 57ms/step - loss: 0.0021 - f1_score: 0.4908 - Accuracy: 3.8197e-04 - precision: 1.0000\n",
      "Epoch 10/200\n",
      "41/41 [==============================] - 2s 56ms/step - loss: 0.0018 - f1_score: 0.4908 - Accuracy: 3.8197e-04 - precision: 1.0000\n",
      "Epoch 11/200\n",
      "41/41 [==============================] - 2s 56ms/step - loss: 0.0016 - f1_score: 0.4908 - Accuracy: 3.8197e-04 - precision: 1.0000\n",
      "Epoch 12/200\n",
      "41/41 [==============================] - 2s 55ms/step - loss: 0.0017 - f1_score: 0.4908 - Accuracy: 3.8197e-04 - precision: 1.0000\n",
      "Epoch 13/200\n",
      "41/41 [==============================] - 2s 55ms/step - loss: 0.0014 - f1_score: 0.4908 - Accuracy: 3.8197e-04 - precision: 1.0000\n",
      "Epoch 14/200\n",
      "41/41 [==============================] - 2s 56ms/step - loss: 0.0015 - f1_score: 0.4908 - Accuracy: 3.8197e-04 - precision: 1.0000\n",
      "Epoch 15/200\n",
      "41/41 [==============================] - 2s 51ms/step - loss: 0.0015 - f1_score: 0.4908 - Accuracy: 3.8197e-04 - precision: 1.0000\n",
      "Epoch 16/200\n",
      "41/41 [==============================] - 2s 54ms/step - loss: 0.0017 - f1_score: 0.4908 - Accuracy: 3.8197e-04 - precision: 1.0000\n",
      "Epoch 17/200\n",
      "41/41 [==============================] - 2s 52ms/step - loss: 0.0015 - f1_score: 0.4908 - Accuracy: 3.8197e-04 - precision: 1.0000\n",
      "Epoch 18/200\n",
      "41/41 [==============================] - 2s 55ms/step - loss: 0.0015 - f1_score: 0.4908 - Accuracy: 3.8197e-04 - precision: 1.0000\n",
      "Epoch 19/200\n",
      "41/41 [==============================] - 2s 56ms/step - loss: 0.0014 - f1_score: 0.4908 - Accuracy: 3.8197e-04 - precision: 1.0000\n",
      "Epoch 20/200\n",
      "41/41 [==============================] - 2s 59ms/step - loss: 0.0013 - f1_score: 0.4908 - Accuracy: 3.8197e-04 - precision: 1.0000\n",
      "Epoch 21/200\n",
      "41/41 [==============================] - 2s 56ms/step - loss: 0.0015 - f1_score: 0.4908 - Accuracy: 3.8197e-04 - precision: 1.0000\n",
      "Epoch 22/200\n",
      "41/41 [==============================] - 2s 58ms/step - loss: 0.0014 - f1_score: 0.4908 - Accuracy: 3.8197e-04 - precision: 1.0000\n",
      "Epoch 23/200\n",
      "41/41 [==============================] - 2s 54ms/step - loss: 0.0014 - f1_score: 0.4908 - Accuracy: 3.8197e-04 - precision: 1.0000\n",
      "Epoch 24/200\n",
      "41/41 [==============================] - 2s 56ms/step - loss: 0.0012 - f1_score: 0.4908 - Accuracy: 3.8197e-04 - precision: 1.0000\n",
      "Epoch 25/200\n",
      "41/41 [==============================] - 2s 55ms/step - loss: 0.0012 - f1_score: 0.4908 - Accuracy: 3.8197e-04 - precision: 1.0000\n",
      "Epoch 26/200\n",
      "41/41 [==============================] - 2s 58ms/step - loss: 0.0014 - f1_score: 0.4908 - Accuracy: 3.8197e-04 - precision: 1.0000\n",
      "Epoch 27/200\n",
      "41/41 [==============================] - 2s 60ms/step - loss: 0.0014 - f1_score: 0.4908 - Accuracy: 3.8197e-04 - precision: 1.0000\n",
      "Epoch 28/200\n",
      "41/41 [==============================] - 2s 59ms/step - loss: 0.0012 - f1_score: 0.4908 - Accuracy: 3.8197e-04 - precision: 1.0000\n",
      "Epoch 29/200\n",
      "41/41 [==============================] - 2s 58ms/step - loss: 0.0012 - f1_score: 0.4908 - Accuracy: 3.8197e-04 - precision: 1.0000\n",
      "Epoch 30/200\n",
      "41/41 [==============================] - 3s 64ms/step - loss: 0.0014 - f1_score: 0.4908 - Accuracy: 3.8197e-04 - precision: 1.0000\n",
      "Epoch 31/200\n",
      "41/41 [==============================] - 3s 62ms/step - loss: 0.0012 - f1_score: 0.4908 - Accuracy: 3.8197e-04 - precision: 1.0000\n",
      "Epoch 32/200\n",
      "41/41 [==============================] - 2s 58ms/step - loss: 0.0012 - f1_score: 0.4908 - Accuracy: 3.8197e-04 - precision: 1.0000\n",
      "Epoch 33/200\n",
      "41/41 [==============================] - 2s 57ms/step - loss: 0.0011 - f1_score: 0.4908 - Accuracy: 3.8197e-04 - precision: 1.0000\n",
      "Epoch 34/200\n",
      "41/41 [==============================] - 2s 51ms/step - loss: 0.0011 - f1_score: 0.4908 - Accuracy: 3.8197e-04 - precision: 1.0000\n",
      "Epoch 35/200\n",
      "41/41 [==============================] - 2s 60ms/step - loss: 0.0011 - f1_score: 0.4908 - Accuracy: 3.8197e-04 - precision: 1.0000\n",
      "Epoch 36/200\n",
      "41/41 [==============================] - 2s 56ms/step - loss: 0.0011 - f1_score: 0.4908 - Accuracy: 3.8197e-04 - precision: 1.0000\n",
      "Epoch 37/200\n",
      "41/41 [==============================] - 2s 59ms/step - loss: 0.0012 - f1_score: 0.4908 - Accuracy: 3.8197e-04 - precision: 1.0000\n",
      "Epoch 38/200\n",
      "41/41 [==============================] - 2s 55ms/step - loss: 0.0011 - f1_score: 0.4908 - Accuracy: 3.8197e-04 - precision: 1.0000\n",
      "Epoch 39/200\n",
      "41/41 [==============================] - 2s 56ms/step - loss: 0.0010 - f1_score: 0.4908 - Accuracy: 3.8197e-04 - precision: 1.0000\n",
      "Epoch 40/200\n",
      "41/41 [==============================] - 2s 54ms/step - loss: 9.5613e-04 - f1_score: 0.4908 - Accuracy: 3.8197e-04 - precision: 1.0000\n",
      "Epoch 41/200\n",
      "41/41 [==============================] - 2s 54ms/step - loss: 0.0011 - f1_score: 0.4908 - Accuracy: 3.8197e-04 - precision: 1.0000\n",
      "Epoch 42/200\n",
      "41/41 [==============================] - 2s 54ms/step - loss: 0.0010 - f1_score: 0.4908 - Accuracy: 3.8197e-04 - precision: 1.0000\n",
      "Epoch 43/200\n",
      "41/41 [==============================] - 2s 52ms/step - loss: 9.3403e-04 - f1_score: 0.4908 - Accuracy: 3.8197e-04 - precision: 1.0000\n",
      "Epoch 44/200\n",
      "41/41 [==============================] - 2s 56ms/step - loss: 9.2572e-04 - f1_score: 0.4908 - Accuracy: 3.8197e-04 - precision: 1.0000\n",
      "Epoch 45/200\n",
      "41/41 [==============================] - 2s 53ms/step - loss: 9.2285e-04 - f1_score: 0.4908 - Accuracy: 3.8197e-04 - precision: 1.0000\n",
      "Epoch 46/200\n",
      "41/41 [==============================] - 2s 52ms/step - loss: 9.6503e-04 - f1_score: 0.4908 - Accuracy: 3.8197e-04 - precision: 1.0000\n",
      "Epoch 47/200\n",
      "41/41 [==============================] - 2s 55ms/step - loss: 9.9800e-04 - f1_score: 0.4908 - Accuracy: 3.8197e-04 - precision: 1.0000\n",
      "Epoch 48/200\n",
      "41/41 [==============================] - 2s 55ms/step - loss: 9.9654e-04 - f1_score: 0.4908 - Accuracy: 3.8197e-04 - precision: 1.0000\n",
      "Epoch 49/200\n",
      "41/41 [==============================] - 2s 54ms/step - loss: 9.0159e-04 - f1_score: 0.4908 - Accuracy: 3.8197e-04 - precision: 1.0000\n",
      "Epoch 50/200\n",
      "41/41 [==============================] - 2s 55ms/step - loss: 9.4235e-04 - f1_score: 0.4908 - Accuracy: 3.8197e-04 - precision: 1.0000\n",
      "Epoch 51/200\n",
      "41/41 [==============================] - 2s 58ms/step - loss: 9.1216e-04 - f1_score: 0.4908 - Accuracy: 3.8197e-04 - precision: 1.0000\n",
      "Epoch 52/200\n",
      "41/41 [==============================] - 2s 55ms/step - loss: 8.7678e-04 - f1_score: 0.4908 - Accuracy: 3.8197e-04 - precision: 1.0000\n",
      "Epoch 53/200\n",
      "41/41 [==============================] - 2s 55ms/step - loss: 8.5999e-04 - f1_score: 0.4908 - Accuracy: 3.8197e-04 - precision: 1.0000\n",
      "Epoch 54/200\n",
      "41/41 [==============================] - 2s 57ms/step - loss: 8.7647e-04 - f1_score: 0.4908 - Accuracy: 3.8197e-04 - precision: 1.0000\n",
      "Epoch 55/200\n",
      "41/41 [==============================] - 2s 54ms/step - loss: 8.7914e-04 - f1_score: 0.4908 - Accuracy: 3.8197e-04 - precision: 1.0000\n",
      "Epoch 56/200\n",
      "41/41 [==============================] - 2s 51ms/step - loss: 8.8716e-04 - f1_score: 0.4908 - Accuracy: 3.8197e-04 - precision: 1.0000\n",
      "Epoch 57/200\n",
      "41/41 [==============================] - 2s 54ms/step - loss: 8.5497e-04 - f1_score: 0.4908 - Accuracy: 3.8197e-04 - precision: 1.0000\n",
      "Epoch 58/200\n",
      "41/41 [==============================] - 2s 56ms/step - loss: 9.2661e-04 - f1_score: 0.4908 - Accuracy: 3.8197e-04 - precision: 1.0000\n",
      "Epoch 59/200\n",
      "41/41 [==============================] - 2s 53ms/step - loss: 7.7082e-04 - f1_score: 0.4908 - Accuracy: 3.8197e-04 - precision: 1.0000\n",
      "Epoch 60/200\n",
      "41/41 [==============================] - 2s 56ms/step - loss: 8.0927e-04 - f1_score: 0.4908 - Accuracy: 3.8197e-04 - precision: 1.0000\n",
      "Epoch 61/200\n",
      "41/41 [==============================] - 2s 54ms/step - loss: 8.3891e-04 - f1_score: 0.4908 - Accuracy: 3.8197e-04 - precision: 1.0000\n",
      "Epoch 62/200\n",
      "41/41 [==============================] - 2s 54ms/step - loss: 7.6753e-04 - f1_score: 0.4908 - Accuracy: 3.8197e-04 - precision: 1.0000\n",
      "Epoch 63/200\n",
      "41/41 [==============================] - 2s 54ms/step - loss: 8.5951e-04 - f1_score: 0.4908 - Accuracy: 3.8197e-04 - precision: 1.0000\n",
      "Epoch 64/200\n",
      "41/41 [==============================] - 2s 54ms/step - loss: 8.9536e-04 - f1_score: 0.4908 - Accuracy: 3.8197e-04 - precision: 1.0000\n",
      "Epoch 65/200\n",
      "41/41 [==============================] - 2s 50ms/step - loss: 8.2216e-04 - f1_score: 0.4908 - Accuracy: 3.8197e-04 - precision: 1.0000\n",
      "Epoch 66/200\n",
      "41/41 [==============================] - 2s 52ms/step - loss: 7.8546e-04 - f1_score: 0.4908 - Accuracy: 3.8197e-04 - precision: 1.0000\n",
      "Epoch 67/200\n",
      "41/41 [==============================] - 2s 51ms/step - loss: 8.3987e-04 - f1_score: 0.4908 - Accuracy: 3.8197e-04 - precision: 1.0000\n",
      "Epoch 68/200\n",
      "41/41 [==============================] - 2s 54ms/step - loss: 7.9146e-04 - f1_score: 0.4908 - Accuracy: 3.8197e-04 - precision: 1.0000\n",
      "Epoch 69/200\n",
      "41/41 [==============================] - 2s 52ms/step - loss: 7.8531e-04 - f1_score: 0.4908 - Accuracy: 3.8197e-04 - precision: 1.0000\n",
      "Epoch 70/200\n",
      "41/41 [==============================] - 2s 54ms/step - loss: 8.1178e-04 - f1_score: 0.4908 - Accuracy: 3.8197e-04 - precision: 1.0000\n",
      "Epoch 71/200\n",
      "41/41 [==============================] - 2s 53ms/step - loss: 7.8128e-04 - f1_score: 0.4908 - Accuracy: 3.8197e-04 - precision: 1.0000\n",
      "Epoch 72/200\n",
      "41/41 [==============================] - 2s 50ms/step - loss: 7.1591e-04 - f1_score: 0.4908 - Accuracy: 3.8197e-04 - precision: 1.0000\n",
      "Epoch 73/200\n",
      "41/41 [==============================] - 2s 53ms/step - loss: 7.3903e-04 - f1_score: 0.4908 - Accuracy: 3.8197e-04 - precision: 1.0000\n",
      "Epoch 74/200\n",
      "41/41 [==============================] - 2s 50ms/step - loss: 7.5861e-04 - f1_score: 0.4908 - Accuracy: 3.8197e-04 - precision: 1.0000\n",
      "Epoch 75/200\n",
      "41/41 [==============================] - 2s 50ms/step - loss: 7.7189e-04 - f1_score: 0.4908 - Accuracy: 3.8197e-04 - precision: 1.0000\n",
      "Epoch 76/200\n",
      "41/41 [==============================] - 2s 49ms/step - loss: 7.2984e-04 - f1_score: 0.4908 - Accuracy: 3.8197e-04 - precision: 1.0000\n",
      "Epoch 77/200\n",
      "41/41 [==============================] - 2s 53ms/step - loss: 8.8704e-04 - f1_score: 0.4908 - Accuracy: 3.8197e-04 - precision: 1.0000\n",
      "Epoch 78/200\n",
      "41/41 [==============================] - 2s 57ms/step - loss: 7.9372e-04 - f1_score: 0.4908 - Accuracy: 3.8197e-04 - precision: 1.0000\n",
      "Epoch 79/200\n",
      "41/41 [==============================] - 2s 53ms/step - loss: 7.3882e-04 - f1_score: 0.4908 - Accuracy: 3.8197e-04 - precision: 1.0000\n",
      "Epoch 80/200\n",
      "41/41 [==============================] - 2s 54ms/step - loss: 8.0578e-04 - f1_score: 0.4908 - Accuracy: 3.8197e-04 - precision: 1.0000\n",
      "Epoch 81/200\n",
      "41/41 [==============================] - 2s 54ms/step - loss: 7.9669e-04 - f1_score: 0.4908 - Accuracy: 3.8197e-04 - precision: 1.0000\n",
      "Epoch 82/200\n",
      "41/41 [==============================] - 2s 58ms/step - loss: 6.5267e-04 - f1_score: 0.4908 - Accuracy: 3.8197e-04 - precision: 1.0000\n",
      "Epoch 83/200\n",
      "41/41 [==============================] - 2s 55ms/step - loss: 7.4323e-04 - f1_score: 0.4908 - Accuracy: 3.8197e-04 - precision: 1.0000\n",
      "Epoch 84/200\n",
      "41/41 [==============================] - 2s 55ms/step - loss: 7.1973e-04 - f1_score: 0.4908 - Accuracy: 3.8197e-04 - precision: 1.0000\n",
      "Epoch 85/200\n",
      "41/41 [==============================] - 2s 61ms/step - loss: 7.0662e-04 - f1_score: 0.4908 - Accuracy: 3.8197e-04 - precision: 1.0000\n",
      "Epoch 86/200\n",
      "41/41 [==============================] - 2s 56ms/step - loss: 7.3892e-04 - f1_score: 0.4908 - Accuracy: 3.8197e-04 - precision: 1.0000\n",
      "Epoch 87/200\n",
      "41/41 [==============================] - 2s 59ms/step - loss: 7.2587e-04 - f1_score: 0.4908 - Accuracy: 3.8197e-04 - precision: 1.0000\n",
      "Epoch 88/200\n",
      "41/41 [==============================] - 2s 59ms/step - loss: 6.7606e-04 - f1_score: 0.4908 - Accuracy: 3.8197e-04 - precision: 1.0000\n",
      "Epoch 89/200\n",
      "41/41 [==============================] - 2s 55ms/step - loss: 6.7515e-04 - f1_score: 0.4908 - Accuracy: 3.8197e-04 - precision: 1.0000\n",
      "Epoch 90/200\n",
      "41/41 [==============================] - 2s 56ms/step - loss: 6.8587e-04 - f1_score: 0.4908 - Accuracy: 3.8197e-04 - precision: 1.0000\n",
      "Epoch 91/200\n",
      "41/41 [==============================] - 2s 55ms/step - loss: 6.6499e-04 - f1_score: 0.4908 - Accuracy: 3.8197e-04 - precision: 1.0000\n",
      "Epoch 92/200\n",
      "41/41 [==============================] - 2s 57ms/step - loss: 6.7861e-04 - f1_score: 0.4908 - Accuracy: 3.8197e-04 - precision: 1.0000\n",
      "Epoch 93/200\n",
      "41/41 [==============================] - 2s 59ms/step - loss: 7.1062e-04 - f1_score: 0.4908 - Accuracy: 3.8197e-04 - precision: 1.0000\n",
      "Epoch 94/200\n",
      "41/41 [==============================] - 2s 56ms/step - loss: 6.9010e-04 - f1_score: 0.4908 - Accuracy: 3.8197e-04 - precision: 1.0000\n",
      "Epoch 95/200\n",
      "41/41 [==============================] - 2s 59ms/step - loss: 7.5783e-04 - f1_score: 0.4908 - Accuracy: 3.8197e-04 - precision: 1.0000\n",
      "Epoch 96/200\n",
      "41/41 [==============================] - 2s 60ms/step - loss: 6.6091e-04 - f1_score: 0.4908 - Accuracy: 3.8197e-04 - precision: 1.0000\n",
      "Epoch 97/200\n",
      "41/41 [==============================] - 2s 54ms/step - loss: 6.7399e-04 - f1_score: 0.4908 - Accuracy: 3.8197e-04 - precision: 1.0000\n",
      "Epoch 98/200\n",
      "41/41 [==============================] - 2s 56ms/step - loss: 7.3594e-04 - f1_score: 0.4908 - Accuracy: 3.8197e-04 - precision: 1.0000\n",
      "Epoch 99/200\n",
      "41/41 [==============================] - 2s 55ms/step - loss: 7.4403e-04 - f1_score: 0.4908 - Accuracy: 3.8197e-04 - precision: 1.0000\n",
      "Epoch 100/200\n",
      "41/41 [==============================] - 2s 54ms/step - loss: 7.3130e-04 - f1_score: 0.4908 - Accuracy: 3.8197e-04 - precision: 1.0000\n",
      "Epoch 101/200\n",
      "41/41 [==============================] - 2s 53ms/step - loss: 7.4290e-04 - f1_score: 0.4908 - Accuracy: 3.8197e-04 - precision: 1.0000\n",
      "Epoch 102/200\n",
      "41/41 [==============================] - 2s 53ms/step - loss: 6.3041e-04 - f1_score: 0.4908 - Accuracy: 3.8197e-04 - precision: 1.0000\n",
      "Epoch 103/200\n",
      "41/41 [==============================] - 2s 57ms/step - loss: 6.6808e-04 - f1_score: 0.4908 - Accuracy: 3.8197e-04 - precision: 1.0000\n",
      "Epoch 104/200\n",
      "41/41 [==============================] - 2s 58ms/step - loss: 6.9454e-04 - f1_score: 0.4908 - Accuracy: 3.8197e-04 - precision: 1.0000\n",
      "Epoch 105/200\n",
      "41/41 [==============================] - 2s 55ms/step - loss: 6.5470e-04 - f1_score: 0.4908 - Accuracy: 3.8197e-04 - precision: 1.0000\n",
      "Epoch 106/200\n",
      "41/41 [==============================] - 2s 54ms/step - loss: 6.7636e-04 - f1_score: 0.4908 - Accuracy: 3.8197e-04 - precision: 1.0000\n",
      "Epoch 107/200\n",
      "41/41 [==============================] - 2s 56ms/step - loss: 6.7422e-04 - f1_score: 0.4908 - Accuracy: 3.8197e-04 - precision: 1.0000\n",
      "Epoch 108/200\n",
      "41/41 [==============================] - 2s 57ms/step - loss: 7.1421e-04 - f1_score: 0.4908 - Accuracy: 3.8197e-04 - precision: 1.0000\n",
      "Epoch 109/200\n",
      "41/41 [==============================] - 2s 57ms/step - loss: 6.9450e-04 - f1_score: 0.4908 - Accuracy: 3.8197e-04 - precision: 1.0000\n",
      "Epoch 110/200\n",
      "41/41 [==============================] - 2s 59ms/step - loss: 6.8051e-04 - f1_score: 0.4908 - Accuracy: 3.8197e-04 - precision: 1.0000\n",
      "Epoch 111/200\n",
      "41/41 [==============================] - 2s 55ms/step - loss: 6.3340e-04 - f1_score: 0.4908 - Accuracy: 3.8197e-04 - precision: 1.0000\n",
      "Epoch 112/200\n",
      "41/41 [==============================] - 2s 55ms/step - loss: 6.7574e-04 - f1_score: 0.4908 - Accuracy: 3.8197e-04 - precision: 1.0000\n",
      "Epoch 113/200\n",
      "41/41 [==============================] - 2s 54ms/step - loss: 6.3841e-04 - f1_score: 0.4908 - Accuracy: 3.8197e-04 - precision: 1.0000\n",
      "Epoch 114/200\n",
      "41/41 [==============================] - 2s 55ms/step - loss: 5.7248e-04 - f1_score: 0.4908 - Accuracy: 3.8197e-04 - precision: 1.0000\n",
      "Epoch 115/200\n",
      "41/41 [==============================] - 2s 55ms/step - loss: 6.4563e-04 - f1_score: 0.4908 - Accuracy: 3.8197e-04 - precision: 1.0000\n",
      "Epoch 116/200\n",
      "41/41 [==============================] - 2s 55ms/step - loss: 6.5116e-04 - f1_score: 0.4908 - Accuracy: 3.8197e-04 - precision: 1.0000\n",
      "Epoch 117/200\n",
      "41/41 [==============================] - 2s 53ms/step - loss: 6.7875e-04 - f1_score: 0.4908 - Accuracy: 3.8197e-04 - precision: 1.0000\n",
      "Epoch 118/200\n",
      "41/41 [==============================] - 2s 54ms/step - loss: 6.5984e-04 - f1_score: 0.4908 - Accuracy: 3.8197e-04 - precision: 1.0000\n",
      "Epoch 119/200\n",
      "41/41 [==============================] - 2s 58ms/step - loss: 6.2760e-04 - f1_score: 0.4908 - Accuracy: 3.8197e-04 - precision: 1.0000\n",
      "Epoch 120/200\n",
      "41/41 [==============================] - 2s 56ms/step - loss: 6.5462e-04 - f1_score: 0.4908 - Accuracy: 3.8197e-04 - precision: 1.0000\n",
      "Epoch 121/200\n",
      "41/41 [==============================] - 2s 59ms/step - loss: 6.0987e-04 - f1_score: 0.4908 - Accuracy: 3.8197e-04 - precision: 1.0000\n",
      "Epoch 122/200\n",
      "41/41 [==============================] - 2s 55ms/step - loss: 6.6264e-04 - f1_score: 0.4908 - Accuracy: 3.8197e-04 - precision: 1.0000\n",
      "Epoch 123/200\n",
      "41/41 [==============================] - 2s 55ms/step - loss: 6.4159e-04 - f1_score: 0.4908 - Accuracy: 3.8197e-04 - precision: 1.0000\n",
      "Epoch 124/200\n",
      "41/41 [==============================] - 2s 57ms/step - loss: 6.4393e-04 - f1_score: 0.4908 - Accuracy: 3.8197e-04 - precision: 1.0000\n",
      "Epoch 125/200\n",
      "41/41 [==============================] - 2s 58ms/step - loss: 6.6452e-04 - f1_score: 0.4908 - Accuracy: 3.8197e-04 - precision: 1.0000\n",
      "Epoch 126/200\n",
      "41/41 [==============================] - 2s 54ms/step - loss: 6.8886e-04 - f1_score: 0.4908 - Accuracy: 3.8197e-04 - precision: 1.0000\n",
      "Epoch 127/200\n",
      "41/41 [==============================] - 2s 55ms/step - loss: 6.3066e-04 - f1_score: 0.4908 - Accuracy: 3.8197e-04 - precision: 1.0000\n",
      "Epoch 128/200\n",
      "41/41 [==============================] - 2s 55ms/step - loss: 6.7738e-04 - f1_score: 0.4908 - Accuracy: 3.8197e-04 - precision: 1.0000\n",
      "Epoch 129/200\n",
      "41/41 [==============================] - 2s 57ms/step - loss: 5.8868e-04 - f1_score: 0.4908 - Accuracy: 3.8197e-04 - precision: 1.0000\n",
      "Epoch 130/200\n",
      "41/41 [==============================] - 2s 61ms/step - loss: 6.2278e-04 - f1_score: 0.4908 - Accuracy: 3.8197e-04 - precision: 1.0000\n",
      "Epoch 131/200\n",
      "41/41 [==============================] - 2s 57ms/step - loss: 6.6789e-04 - f1_score: 0.4908 - Accuracy: 3.8197e-04 - precision: 1.0000\n",
      "Epoch 132/200\n",
      "41/41 [==============================] - 2s 54ms/step - loss: 6.2227e-04 - f1_score: 0.4908 - Accuracy: 3.8197e-04 - precision: 1.0000\n",
      "Epoch 133/200\n",
      "41/41 [==============================] - 2s 60ms/step - loss: 5.8821e-04 - f1_score: 0.4908 - Accuracy: 3.8197e-04 - precision: 1.0000\n",
      "Epoch 134/200\n",
      "41/41 [==============================] - 2s 59ms/step - loss: 7.4970e-04 - f1_score: 0.4908 - Accuracy: 3.8197e-04 - precision: 1.0000\n",
      "Epoch 135/200\n",
      "41/41 [==============================] - 2s 57ms/step - loss: 6.7264e-04 - f1_score: 0.4908 - Accuracy: 3.8197e-04 - precision: 1.0000\n",
      "Epoch 136/200\n",
      "41/41 [==============================] - 2s 54ms/step - loss: 5.8586e-04 - f1_score: 0.4908 - Accuracy: 3.8197e-04 - precision: 1.0000\n",
      "Epoch 137/200\n",
      "41/41 [==============================] - 2s 58ms/step - loss: 5.8172e-04 - f1_score: 0.4908 - Accuracy: 3.8197e-04 - precision: 1.0000\n",
      "Epoch 138/200\n",
      "41/41 [==============================] - 2s 57ms/step - loss: 5.8439e-04 - f1_score: 0.4908 - Accuracy: 3.8197e-04 - precision: 1.0000\n",
      "Epoch 139/200\n",
      "41/41 [==============================] - 2s 57ms/step - loss: 5.6674e-04 - f1_score: 0.4908 - Accuracy: 3.8197e-04 - precision: 1.0000\n",
      "Epoch 140/200\n",
      "41/41 [==============================] - 3s 62ms/step - loss: 5.6392e-04 - f1_score: 0.4908 - Accuracy: 3.8197e-04 - precision: 1.0000\n",
      "Epoch 141/200\n",
      "41/41 [==============================] - 2s 59ms/step - loss: 5.7725e-04 - f1_score: 0.4908 - Accuracy: 3.8197e-04 - precision: 1.0000\n",
      "Epoch 142/200\n",
      "41/41 [==============================] - 2s 58ms/step - loss: 5.6116e-04 - f1_score: 0.4908 - Accuracy: 3.8197e-04 - precision: 1.0000\n",
      "Epoch 143/200\n",
      "41/41 [==============================] - 2s 55ms/step - loss: 5.8126e-04 - f1_score: 0.4908 - Accuracy: 3.8197e-04 - precision: 1.0000\n",
      "Epoch 144/200\n",
      "41/41 [==============================] - 2s 58ms/step - loss: 5.5652e-04 - f1_score: 0.4908 - Accuracy: 3.8197e-04 - precision: 1.0000\n",
      "Epoch 145/200\n",
      "41/41 [==============================] - 2s 56ms/step - loss: 5.8739e-04 - f1_score: 0.4908 - Accuracy: 3.8197e-04 - precision: 1.0000\n",
      "Epoch 146/200\n",
      "41/41 [==============================] - 2s 54ms/step - loss: 5.2869e-04 - f1_score: 0.4908 - Accuracy: 3.8197e-04 - precision: 1.0000\n",
      "Epoch 147/200\n",
      "41/41 [==============================] - 2s 57ms/step - loss: 5.7056e-04 - f1_score: 0.4908 - Accuracy: 3.8197e-04 - precision: 1.0000\n",
      "Epoch 148/200\n",
      "41/41 [==============================] - 2s 55ms/step - loss: 5.8513e-04 - f1_score: 0.4908 - Accuracy: 3.8197e-04 - precision: 1.0000\n",
      "Epoch 149/200\n",
      "41/41 [==============================] - 2s 54ms/step - loss: 5.8777e-04 - f1_score: 0.4908 - Accuracy: 3.8197e-04 - precision: 1.0000\n",
      "Epoch 150/200\n",
      "41/41 [==============================] - 2s 54ms/step - loss: 5.9325e-04 - f1_score: 0.4908 - Accuracy: 3.8197e-04 - precision: 1.0000\n",
      "Epoch 151/200\n",
      "41/41 [==============================] - 2s 58ms/step - loss: 5.4850e-04 - f1_score: 0.4908 - Accuracy: 3.8197e-04 - precision: 1.0000\n",
      "Epoch 152/200\n",
      "41/41 [==============================] - 2s 55ms/step - loss: 5.1884e-04 - f1_score: 0.4908 - Accuracy: 3.8197e-04 - precision: 1.0000\n",
      "Epoch 153/200\n",
      "41/41 [==============================] - 2s 55ms/step - loss: 6.0350e-04 - f1_score: 0.4908 - Accuracy: 3.8197e-04 - precision: 1.0000\n",
      "Epoch 154/200\n",
      "41/41 [==============================] - 2s 51ms/step - loss: 5.3795e-04 - f1_score: 0.4908 - Accuracy: 3.8197e-04 - precision: 1.0000\n",
      "Epoch 155/200\n",
      "41/41 [==============================] - 2s 54ms/step - loss: 6.1909e-04 - f1_score: 0.4908 - Accuracy: 3.8197e-04 - precision: 1.0000\n",
      "Epoch 156/200\n",
      "41/41 [==============================] - 2s 53ms/step - loss: 5.7858e-04 - f1_score: 0.4908 - Accuracy: 3.8197e-04 - precision: 1.0000\n",
      "Epoch 157/200\n",
      "41/41 [==============================] - 2s 52ms/step - loss: 6.2133e-04 - f1_score: 0.4908 - Accuracy: 3.8197e-04 - precision: 1.0000\n",
      "Epoch 158/200\n",
      "41/41 [==============================] - 2s 57ms/step - loss: 5.9008e-04 - f1_score: 0.4908 - Accuracy: 3.8197e-04 - precision: 1.0000\n",
      "Epoch 159/200\n",
      "41/41 [==============================] - 2s 56ms/step - loss: 5.8255e-04 - f1_score: 0.4908 - Accuracy: 3.8197e-04 - precision: 1.0000\n",
      "Epoch 160/200\n",
      "41/41 [==============================] - 2s 58ms/step - loss: 6.2884e-04 - f1_score: 0.4908 - Accuracy: 3.8197e-04 - precision: 1.0000\n",
      "Epoch 161/200\n",
      "41/41 [==============================] - 2s 54ms/step - loss: 5.7301e-04 - f1_score: 0.4908 - Accuracy: 3.8197e-04 - precision: 1.0000\n",
      "Epoch 162/200\n",
      "41/41 [==============================] - 2s 57ms/step - loss: 5.4624e-04 - f1_score: 0.4908 - Accuracy: 3.8197e-04 - precision: 1.0000\n",
      "Epoch 163/200\n",
      "41/41 [==============================] - 3s 63ms/step - loss: 5.8678e-04 - f1_score: 0.4908 - Accuracy: 3.8197e-04 - precision: 1.0000\n",
      "Epoch 164/200\n",
      "41/41 [==============================] - 2s 58ms/step - loss: 6.1834e-04 - f1_score: 0.4908 - Accuracy: 3.8197e-04 - precision: 1.0000\n",
      "Epoch 165/200\n",
      "41/41 [==============================] - 2s 58ms/step - loss: 5.5435e-04 - f1_score: 0.4908 - Accuracy: 3.8197e-04 - precision: 1.0000\n",
      "Epoch 166/200\n",
      "41/41 [==============================] - 2s 52ms/step - loss: 5.9300e-04 - f1_score: 0.4908 - Accuracy: 3.8197e-04 - precision: 1.0000\n",
      "Epoch 167/200\n",
      "41/41 [==============================] - 2s 56ms/step - loss: 5.9902e-04 - f1_score: 0.4908 - Accuracy: 3.8197e-04 - precision: 1.0000\n",
      "Epoch 168/200\n",
      "41/41 [==============================] - 2s 57ms/step - loss: 5.9582e-04 - f1_score: 0.4908 - Accuracy: 3.8197e-04 - precision: 1.0000\n",
      "Epoch 169/200\n",
      "41/41 [==============================] - 2s 56ms/step - loss: 6.3179e-04 - f1_score: 0.4908 - Accuracy: 3.8197e-04 - precision: 1.0000\n",
      "Epoch 170/200\n",
      "41/41 [==============================] - 3s 61ms/step - loss: 6.1330e-04 - f1_score: 0.4908 - Accuracy: 3.8197e-04 - precision: 1.0000\n",
      "Epoch 171/200\n",
      "41/41 [==============================] - 2s 60ms/step - loss: 5.8945e-04 - f1_score: 0.4908 - Accuracy: 3.8197e-04 - precision: 1.0000\n",
      "Epoch 172/200\n",
      "41/41 [==============================] - 2s 60ms/step - loss: 6.4048e-04 - f1_score: 0.4908 - Accuracy: 3.8197e-04 - precision: 1.0000\n",
      "Epoch 173/200\n",
      "41/41 [==============================] - 2s 60ms/step - loss: 5.4171e-04 - f1_score: 0.4908 - Accuracy: 3.8197e-04 - precision: 1.0000\n",
      "Epoch 174/200\n",
      "41/41 [==============================] - 2s 61ms/step - loss: 5.6187e-04 - f1_score: 0.4908 - Accuracy: 3.8197e-04 - precision: 1.0000\n",
      "Epoch 175/200\n",
      "41/41 [==============================] - 2s 56ms/step - loss: 6.0072e-04 - f1_score: 0.4908 - Accuracy: 3.8197e-04 - precision: 1.0000\n",
      "Epoch 176/200\n",
      "41/41 [==============================] - 2s 58ms/step - loss: 5.2243e-04 - f1_score: 0.4908 - Accuracy: 3.8197e-04 - precision: 1.0000\n",
      "Epoch 177/200\n",
      "41/41 [==============================] - 2s 55ms/step - loss: 5.9764e-04 - f1_score: 0.4908 - Accuracy: 3.8197e-04 - precision: 1.0000\n",
      "Epoch 178/200\n",
      "41/41 [==============================] - 2s 56ms/step - loss: 5.7614e-04 - f1_score: 0.4908 - Accuracy: 3.8197e-04 - precision: 1.0000\n",
      "Epoch 179/200\n",
      "41/41 [==============================] - 2s 57ms/step - loss: 5.4503e-04 - f1_score: 0.4908 - Accuracy: 3.8197e-04 - precision: 1.0000\n",
      "Epoch 180/200\n",
      "41/41 [==============================] - 2s 56ms/step - loss: 5.8478e-04 - f1_score: 0.4908 - Accuracy: 3.8197e-04 - precision: 1.0000\n",
      "Epoch 181/200\n",
      "41/41 [==============================] - 2s 56ms/step - loss: 5.4831e-04 - f1_score: 0.4908 - Accuracy: 3.8197e-04 - precision: 1.0000\n",
      "Epoch 182/200\n",
      "41/41 [==============================] - 2s 52ms/step - loss: 6.8464e-04 - f1_score: 0.4908 - Accuracy: 3.8197e-04 - precision: 1.0000\n",
      "Epoch 183/200\n",
      "41/41 [==============================] - 2s 55ms/step - loss: 6.0582e-04 - f1_score: 0.4908 - Accuracy: 3.8197e-04 - precision: 1.0000\n",
      "Epoch 184/200\n",
      "41/41 [==============================] - 2s 56ms/step - loss: 5.5469e-04 - f1_score: 0.4908 - Accuracy: 3.8197e-04 - precision: 1.0000\n",
      "Epoch 185/200\n",
      "41/41 [==============================] - 2s 55ms/step - loss: 5.2867e-04 - f1_score: 0.4908 - Accuracy: 3.8197e-04 - precision: 1.0000\n",
      "Epoch 186/200\n",
      "41/41 [==============================] - 2s 55ms/step - loss: 5.6165e-04 - f1_score: 0.4908 - Accuracy: 3.8197e-04 - precision: 1.0000\n",
      "Epoch 187/200\n",
      "41/41 [==============================] - 2s 56ms/step - loss: 5.9576e-04 - f1_score: 0.4908 - Accuracy: 3.8197e-04 - precision: 1.0000\n",
      "Epoch 188/200\n",
      "41/41 [==============================] - 2s 57ms/step - loss: 5.3760e-04 - f1_score: 0.4908 - Accuracy: 3.8197e-04 - precision: 1.0000\n",
      "Epoch 189/200\n",
      "41/41 [==============================] - 2s 57ms/step - loss: 5.5926e-04 - f1_score: 0.4908 - Accuracy: 3.8197e-04 - precision: 1.0000\n",
      "Epoch 190/200\n",
      "41/41 [==============================] - 2s 57ms/step - loss: 5.5979e-04 - f1_score: 0.4908 - Accuracy: 3.8197e-04 - precision: 1.0000\n",
      "Epoch 191/200\n",
      "41/41 [==============================] - 2s 56ms/step - loss: 5.0631e-04 - f1_score: 0.4908 - Accuracy: 3.8197e-04 - precision: 1.0000\n",
      "Epoch 192/200\n",
      "41/41 [==============================] - 2s 56ms/step - loss: 5.4324e-04 - f1_score: 0.4908 - Accuracy: 3.8197e-04 - precision: 1.0000\n",
      "Epoch 193/200\n",
      "41/41 [==============================] - 2s 56ms/step - loss: 5.8895e-04 - f1_score: 0.4908 - Accuracy: 3.8197e-04 - precision: 1.0000\n",
      "Epoch 194/200\n",
      "41/41 [==============================] - 2s 54ms/step - loss: 5.2832e-04 - f1_score: 0.4908 - Accuracy: 3.8197e-04 - precision: 1.0000\n",
      "Epoch 195/200\n",
      "41/41 [==============================] - 2s 55ms/step - loss: 5.1503e-04 - f1_score: 0.4908 - Accuracy: 3.8197e-04 - precision: 1.0000\n",
      "Epoch 196/200\n",
      "41/41 [==============================] - 2s 57ms/step - loss: 5.7478e-04 - f1_score: 0.4908 - Accuracy: 3.8197e-04 - precision: 1.0000\n",
      "Epoch 197/200\n",
      "41/41 [==============================] - 2s 53ms/step - loss: 5.7563e-04 - f1_score: 0.4908 - Accuracy: 3.8197e-04 - precision: 1.0000\n",
      "Epoch 198/200\n",
      "41/41 [==============================] - 2s 54ms/step - loss: 5.3658e-04 - f1_score: 0.4908 - Accuracy: 3.8197e-04 - precision: 1.0000\n",
      "Epoch 199/200\n",
      "41/41 [==============================] - 2s 58ms/step - loss: 6.3734e-04 - f1_score: 0.4908 - Accuracy: 3.8197e-04 - precision: 1.0000\n",
      "Epoch 200/200\n",
      "41/41 [==============================] - 2s 54ms/step - loss: 5.8661e-04 - f1_score: 0.4908 - Accuracy: 3.8197e-04 - precision: 1.0000\n"
     ]
    },
    {
     "data": {
      "text/plain": [
       "<keras.src.callbacks.History at 0x7f0cf8270d30>"
      ]
     },
     "execution_count": 36,
     "metadata": {},
     "output_type": "execute_result"
    }
   ],
   "source": [
    "# Compiling the LSTM\n",
    "LSTM_model.compile(optimizer = 'adam', loss = 'mean_squared_error', metrics = ['F1Score', 'Accuracy', 'Precision'])\n",
    "# Fitting the RNN to the Training set\n",
    "LSTM_model.fit(X_train, y_train, epochs = 200, batch_size = 64)"
   ]
  },
  {
   "cell_type": "code",
   "execution_count": 37,
   "id": "5f2618ae-ec7a-4dc4-8e35-7fcbf98eacc6",
   "metadata": {},
   "outputs": [],
   "source": [
    "LSTM_model.save('LSTM_model-Module2.keras')"
   ]
  },
  {
   "cell_type": "markdown",
   "id": "54a2972a-f6a4-4541-9147-1dd8960650dc",
   "metadata": {},
   "source": [
    "#### Create Test Set"
   ]
  },
  {
   "cell_type": "code",
   "execution_count": 38,
   "id": "a4a352e1-6b19-46d9-b3d6-db8d4bccee58",
   "metadata": {},
   "outputs": [
    {
     "data": {
      "text/plain": [
       "(696, 1)"
      ]
     },
     "execution_count": 38,
     "metadata": {},
     "output_type": "execute_result"
    }
   ],
   "source": [
    "test = GOOGL_adj_arr[training_data_len: , :]\n",
    "test.shape"
   ]
  },
  {
   "cell_type": "markdown",
   "id": "be2583a1-d5d8-4c98-aced-b6dd746d5dc2",
   "metadata": {},
   "source": [
    "#### Going to do something interesting this time. Let's see if we can predict the 696 values, using 165 from the Train Data"
   ]
  },
  {
   "cell_type": "code",
   "execution_count": 39,
   "id": "37f05d87-850d-4ff8-b09f-3b7cc26d17dc",
   "metadata": {},
   "outputs": [],
   "source": [
    "inputs = GOOGL_adj_arr[len(GOOGL_adj_arr) - len(test) - 165:]\n",
    "inputs = inputs.reshape(-1,1)\n",
    "inputs  = scaler.transform(inputs)"
   ]
  },
  {
   "cell_type": "code",
   "execution_count": 40,
   "id": "4cb3f382-e327-4d5e-bc0d-004f6798f5f7",
   "metadata": {},
   "outputs": [],
   "source": [
    "# Create data sets X_test and y_test\n",
    "\n",
    "X_test = []\n",
    "y_test = GOOGL_adj_arr[training_data_len:, :]\n",
    "for i in range(165,inputs.shape[0]):\n",
    "    X_test.append(inputs[i-165:i,0])"
   ]
  },
  {
   "cell_type": "code",
   "execution_count": 41,
   "id": "6bfe2c76-279a-496f-9a05-595b3d3967e4",
   "metadata": {},
   "outputs": [],
   "source": [
    "# Convert df back to numpy array\n",
    "\n",
    "X_test = np.array(X_test)"
   ]
  },
  {
   "cell_type": "code",
   "execution_count": 42,
   "id": "a7ecc238-42b6-4374-b2d4-ea8eee36a451",
   "metadata": {},
   "outputs": [],
   "source": [
    "# Reshape data into 3D (because LSTM)\n",
    "X_test = np.reshape(X_test, (X_test.shape[0], X_test.shape[1], 1))"
   ]
  },
  {
   "cell_type": "code",
   "execution_count": 43,
   "id": "3d985c41-0890-45b3-9cd7-a4e8371e6805",
   "metadata": {},
   "outputs": [
    {
     "name": "stdout",
     "output_type": "stream",
     "text": [
      "(696, 165, 1)\n"
     ]
    }
   ],
   "source": [
    "print(X_test.shape)"
   ]
  },
  {
   "cell_type": "markdown",
   "id": "9100730c-81cc-48e9-bac7-04902fef4e65",
   "metadata": {},
   "source": [
    "#### Make Predictions using the test set"
   ]
  },
  {
   "cell_type": "code",
   "execution_count": 44,
   "id": "2cca833e-b85d-45e7-bb8a-6d53a7373a71",
   "metadata": {},
   "outputs": [
    {
     "name": "stdout",
     "output_type": "stream",
     "text": [
      "22/22 [==============================] - 1s 31ms/step\n"
     ]
    }
   ],
   "source": [
    "# We want predictions to contain same values as y_test data set\n",
    "predictions = LSTM_model.predict(X_test)\n",
    "predictions = scaler.inverse_transform(predictions)"
   ]
  },
  {
   "cell_type": "code",
   "execution_count": 45,
   "id": "277ee249-6865-45bf-92e7-d0b00906578a",
   "metadata": {},
   "outputs": [
    {
     "data": {
      "text/plain": [
       "(696, 1)"
      ]
     },
     "execution_count": 45,
     "metadata": {},
     "output_type": "execute_result"
    }
   ],
   "source": [
    "predictions.shape"
   ]
  },
  {
   "cell_type": "markdown",
   "id": "6395ed21-2cb9-4dae-8476-bb8c702fb61a",
   "metadata": {},
   "source": [
    "Calculate the RMSE using the actual values\n",
    "RMSE is the standard deviation of the residuals and is a good measure of how accurately the model predicts the reponse. Lower values of RMSE indicate a better fit."
   ]
  },
  {
   "cell_type": "code",
   "execution_count": 46,
   "id": "7f15b3d9-3182-4869-9159-5edf3448e3fa",
   "metadata": {},
   "outputs": [
    {
     "data": {
      "text/plain": [
       "0.34031946905728044"
      ]
     },
     "execution_count": 46,
     "metadata": {},
     "output_type": "execute_result"
    }
   ],
   "source": [
    "rmse = np.sqrt(np.mean(predictions - y_test)**2)  \n",
    "rmse"
   ]
  },
  {
   "cell_type": "code",
   "execution_count": 47,
   "id": "2d7ac3ca-d3df-4e69-bb74-fd295f1c3423",
   "metadata": {},
   "outputs": [
    {
     "data": {
      "image/png": "[encoded data removed]",
      "text/plain": [
       "<Figure size 2000x1000 with 1 Axes>"
      ]
     },
     "metadata": {},
     "output_type": "display_data"
    }
   ],
   "source": [
    "# Plot predicted vs actual values  \n",
    "train = GOOGL_adj[:training_data_len]\n",
    "test = GOOGL_adj[training_data_len:]\n",
    "test['Predictions'] = predictions\n",
    "\n",
    "plt.figure(figsize=(20,10))\n",
    "sns.set_style(\"whitegrid\")\n",
    "plt.plot(train['Adj Close'], label='Training')\n",
    "plt.plot(test['Adj Close'], label='Actual')\n",
    "plt.plot(test['Predictions'], label='Predicted')\n",
    "plt.title(\"GOOGL Close Price - LSTM\", color = 'black', fontsize = 20)\n",
    "plt.xlabel('Year', color = 'black', fontsize = 15)\n",
    "plt.ylabel('Stock Price', color = 'black', fontsize = 15)\n",
    "plt.legend();"
   ]
  },
  {
   "cell_type": "markdown",
   "id": "bf4a2601-a71d-4215-941c-29102d11fc5e",
   "metadata": {},
   "source": [
    "DataFrame of actual vs predicted prices plotted above"
   ]
  },
  {
   "cell_type": "code",
   "execution_count": 48,
   "id": "813a0e35-e8f8-4415-91ef-d44b37f82a6b",
   "metadata": {},
   "outputs": [
    {
     "data": {
      "text/html": [
       "<div>\n",
       "<style scoped>\n",
       "    .dataframe tbody tr th:only-of-type {\n",
       "        vertical-align: middle;\n",
       "    }\n",
       "\n",
       "    .dataframe tbody tr th {\n",
       "        vertical-align: top;\n",
       "    }\n",
       "\n",
       "    .dataframe thead th {\n",
       "        text-align: right;\n",
       "    }\n",
       "</style>\n",
       "<table border=\"1\" class=\"dataframe\">\n",
       "  <thead>\n",
       "    <tr style=\"text-align: right;\">\n",
       "      <th></th>\n",
       "      <th>Adj Close</th>\n",
       "      <th>Predictions</th>\n",
       "    </tr>\n",
       "    <tr>\n",
       "      <th>Date</th>\n",
       "      <th></th>\n",
       "      <th></th>\n",
       "    </tr>\n",
       "  </thead>\n",
       "  <tbody>\n",
       "    <tr>\n",
       "      <th>2021-01-25</th>\n",
       "      <td>94.713997</td>\n",
       "      <td>95.802765</td>\n",
       "    </tr>\n",
       "    <tr>\n",
       "      <th>2021-01-26</th>\n",
       "      <td>95.397499</td>\n",
       "      <td>96.042114</td>\n",
       "    </tr>\n",
       "    <tr>\n",
       "      <th>2021-01-27</th>\n",
       "      <td>90.946999</td>\n",
       "      <td>96.911560</td>\n",
       "    </tr>\n",
       "    <tr>\n",
       "      <th>2021-01-28</th>\n",
       "      <td>92.660004</td>\n",
       "      <td>94.933029</td>\n",
       "    </tr>\n",
       "    <tr>\n",
       "      <th>2021-01-29</th>\n",
       "      <td>91.367996</td>\n",
       "      <td>95.021492</td>\n",
       "    </tr>\n",
       "    <tr>\n",
       "      <th>...</th>\n",
       "      <td>...</td>\n",
       "      <td>...</td>\n",
       "    </tr>\n",
       "    <tr>\n",
       "      <th>2023-10-23</th>\n",
       "      <td>136.500000</td>\n",
       "      <td>135.039429</td>\n",
       "    </tr>\n",
       "    <tr>\n",
       "      <th>2023-10-24</th>\n",
       "      <td>138.809998</td>\n",
       "      <td>136.071472</td>\n",
       "    </tr>\n",
       "    <tr>\n",
       "      <th>2023-10-25</th>\n",
       "      <td>125.610001</td>\n",
       "      <td>137.144012</td>\n",
       "    </tr>\n",
       "    <tr>\n",
       "      <th>2023-10-26</th>\n",
       "      <td>122.279999</td>\n",
       "      <td>127.227638</td>\n",
       "    </tr>\n",
       "    <tr>\n",
       "      <th>2023-10-27</th>\n",
       "      <td>122.169998</td>\n",
       "      <td>126.711510</td>\n",
       "    </tr>\n",
       "  </tbody>\n",
       "</table>\n",
       "<p>696 rows × 2 columns</p>\n",
       "</div>"
      ],
      "text/plain": [
       "             Adj Close  Predictions\n",
       "Date                               \n",
       "2021-01-25   94.713997    95.802765\n",
       "2021-01-26   95.397499    96.042114\n",
       "2021-01-27   90.946999    96.911560\n",
       "2021-01-28   92.660004    94.933029\n",
       "2021-01-29   91.367996    95.021492\n",
       "...                ...          ...\n",
       "2023-10-23  136.500000   135.039429\n",
       "2023-10-24  138.809998   136.071472\n",
       "2023-10-25  125.610001   137.144012\n",
       "2023-10-26  122.279999   127.227638\n",
       "2023-10-27  122.169998   126.711510\n",
       "\n",
       "[696 rows x 2 columns]"
      ]
     },
     "execution_count": 48,
     "metadata": {},
     "output_type": "execute_result"
    }
   ],
   "source": [
    "# Show the actual and predicted prices  \n",
    "\n",
    "test"
   ]
  },
  {
   "cell_type": "markdown",
   "id": "69e79705-2b1b-4aff-8180-0cce653eca64",
   "metadata": {},
   "source": [
    "#### Predict Adjusted Close price for October 27th 2023"
   ]
  },
  {
   "cell_type": "code",
   "execution_count": 51,
   "id": "579e3ff9-aab4-4f66-b378-76ccf78f2eab",
   "metadata": {},
   "outputs": [
    {
     "name": "stdout",
     "output_type": "stream",
     "text": [
      "[*********************100%%**********************]  1 of 1 completed\n",
      "1/1 [==============================] - 0s 36ms/step\n",
      "[[126.71151]]\n"
     ]
    }
   ],
   "source": [
    "# Predict Adjusted Close price for GOOGL stock for October 27th 2023   \n",
    "# get the quote\n",
    "GOOGL_quote = yf.download(\"GOOGL\", start=\"2015-07-10\", end=\"2023-10-27\")\n",
    "# Create new df\n",
    "new_df = GOOGL_quote.filter(['Adj Close'])\n",
    "# Get last 165 days closing price and convert df to array])\n",
    "last_165_days = new_df[-165:].values\n",
    "# Scale data to be values between 0 and 1\n",
    "last_165_days_scaled = scaler.transform(last_165_days)\n",
    "# Create empty list\n",
    "X_test = []\n",
    "# Append last 165 days \n",
    "X_test.append(last_165_days_scaled)\n",
    "# Convert the X_test data set to numpy array\n",
    "X_test = np.array(X_test)\n",
    "# Reshape data\n",
    "X_test = np.reshape(X_test, (X_test.shape[0], X_test.shape[1], 1))\n",
    "# Get predicted price\n",
    "pred_price = LSTM_model.predict(X_test)\n",
    "# Undo the scaling\n",
    "pred_price = scaler.inverse_transform(pred_price)\n",
    "print(pred_price)"
   ]
  },
  {
   "cell_type": "markdown",
   "id": "245f1f02-5ba2-4fa2-b10d-f31638a18a2e",
   "metadata": {},
   "source": [
    "#### Actual Adjusted Close price for Octoebr 27th, 2023"
   ]
  },
  {
   "cell_type": "code",
   "execution_count": 52,
   "id": "a34e602c-f877-454e-a06c-39233690896b",
   "metadata": {},
   "outputs": [
    {
     "name": "stdout",
     "output_type": "stream",
     "text": [
      "[*********************100%%**********************]  1 of 1 completed\n",
      "Date\n",
      "2023-10-26    122.279999\n",
      "Name: Adj Close, dtype: float64\n"
     ]
    }
   ],
   "source": [
    "# Actual price\n",
    "GOOGL_quote2 = yf.download(\"GOOGL\", start=\"2023-10-26\", end=\"2023-10-27\")\n",
    "print(GOOGL_quote2['Adj Close'])"
   ]
  },
  {
   "cell_type": "markdown",
   "id": "66000299-b331-4deb-8b56-40ef622bf532",
   "metadata": {},
   "source": [
    "#### As you can see, the predicted adjusted close price for 10/27/2023 was $126.71151 while the actual price was 122.279999. This is a 3.55957% difference. "
   ]
  },
  {
   "cell_type": "code",
   "execution_count": null,
   "id": "03798d47-a97a-4955-a837-d2d9dfdf8faf",
   "metadata": {},
   "outputs": [],
   "source": []
  }
 ],
 "metadata": {
  "kernelspec": {
   "display_name": "Python 3 (ipykernel)",
   "language": "python",
   "name": "python3"
  },
  "language_info": {
   "codemirror_mode": {
    "name": "ipython",
    "version": 3
   },
   "file_extension": ".py",
   "mimetype": "text/x-python",
   "name": "python",
   "nbconvert_exporter": "python",
   "pygments_lexer": "ipython3",
   "version": "3.10.12"
  },
  "widgets": {
   "application/vnd.jupyter.widget-state+json": {
    "state": {},
    "version_major": 2,
    "version_minor": 0
   }
  }
 },
 "nbformat": 4,
 "nbformat_minor": 5
}
